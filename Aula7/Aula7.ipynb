{
  "cells": [
    {
      "cell_type": "code",
      "execution_count": null,
      "metadata": {
        "id": "GrNj2Z9UbbPb"
      },
      "outputs": [],
      "source": [
        "#instalando a biblioteca Llama index\n",
        "!pip install -q llama-index"
      ]
    },
    {
      "cell_type": "code",
      "source": [
        "!pip install docx2txt"
      ],
      "metadata": {
        "colab": {
          "base_uri": "https://localhost:8080/"
        },
        "id": "71nEmJe38B0B",
        "outputId": "87a49011-69a7-431d-9488-1faf8842d194"
      },
      "execution_count": null,
      "outputs": [
        {
          "output_type": "stream",
          "name": "stdout",
          "text": [
            "Requirement already satisfied: docx2txt in /usr/local/lib/python3.11/dist-packages (0.8)\n"
          ]
        }
      ]
    },
    {
      "cell_type": "code",
      "execution_count": null,
      "metadata": {
        "id": "2gkIjYRemPyL"
      },
      "outputs": [],
      "source": [
        "# biblioteca para permitir a leitura de arquivos\n",
        "from llama_index.core import SimpleDirectoryReader"
      ]
    },
    {
      "cell_type": "code",
      "execution_count": null,
      "metadata": {
        "id": "sR589KzAmUjT"
      },
      "outputs": [],
      "source": [
        "documentos = SimpleDirectoryReader(input_dir='Documentos')"
      ]
    },
    {
      "cell_type": "code",
      "execution_count": null,
      "metadata": {
        "id": "2hVXQi-6m3YQ",
        "colab": {
          "base_uri": "https://localhost:8080/"
        },
        "outputId": "8ffb779a-8932-4e85-d451-13083d22408a"
      },
      "outputs": [
        {
          "output_type": "execute_result",
          "data": {
            "text/plain": [
              "[PosixPath('/content/Documentos/InformacoesAgricultura_n.pdf')]"
            ]
          },
          "metadata": {},
          "execution_count": 104
        }
      ],
      "source": [
        "documentos.input_files"
      ]
    },
    {
      "cell_type": "code",
      "execution_count": null,
      "metadata": {
        "id": "kbileoyum5do"
      },
      "outputs": [],
      "source": [
        "docs = documentos.load_data()"
      ]
    },
    {
      "cell_type": "code",
      "execution_count": null,
      "metadata": {
        "id": "ey8fO1vlm803",
        "colab": {
          "base_uri": "https://localhost:8080/"
        },
        "outputId": "f7756c53-e2d6-4533-e741-037a74ce2654"
      },
      "outputs": [
        {
          "output_type": "execute_result",
          "data": {
            "text/plain": [
              "[Document(id_='ca6f6795-f482-400b-8ae7-cf93490eaa29', embedding=None, metadata={'page_label': '1', 'file_name': 'InformacoesAgricultura_n.pdf', 'file_path': '/content/Documentos/InformacoesAgricultura_n.pdf', 'file_type': 'application/pdf', 'file_size': 274492, 'creation_date': '2025-03-20', 'last_modified_date': '2025-03-20'}, excluded_embed_metadata_keys=['file_name', 'file_type', 'file_size', 'creation_date', 'last_modified_date', 'last_accessed_date'], excluded_llm_metadata_keys=['file_name', 'file_type', 'file_size', 'creation_date', 'last_modified_date', 'last_accessed_date'], relationships={}, metadata_template='{key}: {value}', metadata_separator='\\n', text_resource=MediaResource(embeddings=None, data=None, text='Guia de Preparo do Solo para Plantio \\nInformações Gerais \\nP: Qual a importância do preparo adequado do solo? \\nR: O preparo adequado do solo garante que as plantas tenham acesso aos nutrientes \\nnecessários, além de melhorar a retenção de água e a aeração, fatores essenciais para o \\ncrescimento saudável.  \\nP: Quais fatores devem ser considerados ao preparar o solo para o plantio? \\nR: Os principais fatores incluem o tipo de solo, a umidade ideal, o pH, a compactação e a \\nadubação adequada para cada cultura.  \\n \\nTipos de Solo e Seu Tratamento \\nP: Quais são os principais tipos de solo e como prepará-los? \\nR: Existem diversos tipos de solo, cada um com características específicas e tratamentos \\nrecomendados:  \\n• Solo Arenoso: Possui drenagem rápida e baixo teor de nutrientes. Recomenda-se a \\nadição de matéria orgânica e irrigação frequente.  \\n• Solo Argiloso: Retém muita água e pode compactar facilmente. A aeração e a adição \\nde areia podem melhorar a drenagem.  \\n• Solo Calcário: Apresenta pH alto e pouca disponibilidade de micronutrientes. Pode \\nser corrigido com adubação orgânica e fertilizantes ácidos. \\n \\nSensores para Monitoramento da Umidade do Solo \\nP: Quais sensores podem ser usados para monitorar a umidade do solo? \\nR: Existem diversas tecnologias para medir a umidade do solo, entre elas:  \\n• Sensor Capacitivo de Umidade do Solo: Mede a variação da capacitância conforme o \\nnível de umidade.  ', path=None, url=None, mimetype=None), image_resource=None, audio_resource=None, video_resource=None, text_template='{metadata_str}\\n\\n{content}'),\n",
              " Document(id_='b55a6542-3f0f-4106-be52-722957851394', embedding=None, metadata={'page_label': '2', 'file_name': 'InformacoesAgricultura_n.pdf', 'file_path': '/content/Documentos/InformacoesAgricultura_n.pdf', 'file_type': 'application/pdf', 'file_size': 274492, 'creation_date': '2025-03-20', 'last_modified_date': '2025-03-20'}, excluded_embed_metadata_keys=['file_name', 'file_type', 'file_size', 'creation_date', 'last_modified_date', 'last_accessed_date'], excluded_llm_metadata_keys=['file_name', 'file_type', 'file_size', 'creation_date', 'last_modified_date', 'last_accessed_date'], relationships={}, metadata_template='{key}: {value}', metadata_separator='\\n', text_resource=MediaResource(embeddings=None, data=None, text='• Sensor Resistivo de Umidade: Mede a condutividade elétrica do solo, variando \\nconforme a umidade.  \\n• Sensor TDR (Time Domain Reflectometry): Utiliza pulsos eletromagnéticos para \\ncalcular a umidade com alta precisão.  \\n• Sondas de Tensiômetro: Medem a tensão com que a água está sendo retida no solo, \\nindicando o nível de umidade disponível para as plantas. \\nEsses sensores são fundamentais para o manejo eficiente da irrigação e para evitar o \\nestresse hídrico das plantas.  \\n \\nUmidade e pH Ideais \\nP: Como medir e ajustar a umidade do solo? \\nR: A umidade pode ser medida com sensores ou por testes simples (amassando o solo na \\nmão). Para solos muito secos, a irrigação regular é essencial; para solos muito úmidos, deve-\\nse aplicar um sistema de drenagem adequado.  \\nP: Como ajustar o pH do solo para diferentes culturas? \\nR: O pH do solo pode ser medido com kits de teste. Para correção:  \\n• Solo ácido (pH baixo): Aplicação de calcário.  \\n• Solo alcalino (pH alto): Uso de enxofre ou fertilizantes ácidos. \\n \\nCulturas e Suas Necessidades \\nP: Quais são as recomendações de preparo do solo para diferentes sementes? \\nR: Cada cultura tem exigências específicas:  \\n• Milho: Prefere solo bem drenado, pH entre 5,5 e 7,0, rico em nitrogênio.  \\n• Soja: Necessita de solo com boa retenção de umidade, pH entre 6,0 e 7,0, e fixação \\nbiológica de nitrogênio.  \\n• Trigo: Desenvolve-se melhor em solos profundos e bem drenados, pH entre 6,0 e \\n7,5, rico em fósforo.  \\n• Hortaliças (alface, tomate, cenoura): Precisam de solo leve, bem drenado e rico em \\nmatéria orgânica, com pH entre 5,5 e 6,8. \\nP: Como garantir a fertilidade do solo? ', path=None, url=None, mimetype=None), image_resource=None, audio_resource=None, video_resource=None, text_template='{metadata_str}\\n\\n{content}'),\n",
              " Document(id_='dd4044e3-a426-4941-a5be-33a5e56d893d', embedding=None, metadata={'page_label': '3', 'file_name': 'InformacoesAgricultura_n.pdf', 'file_path': '/content/Documentos/InformacoesAgricultura_n.pdf', 'file_type': 'application/pdf', 'file_size': 274492, 'creation_date': '2025-03-20', 'last_modified_date': '2025-03-20'}, excluded_embed_metadata_keys=['file_name', 'file_type', 'file_size', 'creation_date', 'last_modified_date', 'last_accessed_date'], excluded_llm_metadata_keys=['file_name', 'file_type', 'file_size', 'creation_date', 'last_modified_date', 'last_accessed_date'], relationships={}, metadata_template='{key}: {value}', metadata_separator='\\n', text_resource=MediaResource(embeddings=None, data=None, text='R: O solo deve ser adubado de acordo com as necessidades da cultura. A adubação pode \\nser:  \\n• Orgânica: Composta por compostos naturais, como esterco e húmus de minhoca.  \\n• Química: Com uso de fertilizantes sintéticos, como NPK. \\nA análise do solo é fundamental para determinar os nutrientes necessários.  \\n \\nTipos de Fertilizantes \\nP: Quais são os principais fertilizantes usados no solo? \\nR: Os fertilizantes podem ser classificados em:  \\n• Fertilizantes Orgânicos: Compostos naturais, como esterco, húmus de minhoca, \\nfarinha de ossos e restos vegetais.  \\n• Fertilizantes Químicos: Compostos sintéticos, como NPK (Nitrogênio, Fósforo e \\nPotássio), ureia, superfosfato e cloreto de potássio.  \\n• Fertilizantes de Liberação Controlada: Gradualmente liberam os nutrientes no solo \\nao longo do tempo, otimizando o aproveitamento pelas plantas. \\n \\nPreparo do Solo Passo a Passo \\n1. Análise do Solo: Coletar amostras e verificar pH, umidade e nutrientes.  \\n2. Correção do Solo: Aplicar calcário, adubos e melhoradores conforme necessidade.  \\n3. Aragem e Gradagem: Revolver o solo para aeração e nivelamento.  \\n4. Adubação: Incorporar fertilizantes e matéria orgânica.  \\n5. Preparo Final: Nivelar o solo e preparar os espaçamentos para a sementeira ou \\nmudas. \\n \\nAgora o texto está mais claro e bem estruturado, mantendo todas as informações \\nimportantes. Caso precise de mais ajustes ou formatação específica, me avise! 😊 \\n \\nTipos de Fertilizantes \\nP: Quais são os principais fertilizantes usados no solo? \\n R: Os fertilizantes podem ser classificados em: ', path=None, url=None, mimetype=None), image_resource=None, audio_resource=None, video_resource=None, text_template='{metadata_str}\\n\\n{content}'),\n",
              " Document(id_='b0ebd0c9-af2f-400e-9c21-26d4fd2bddca', embedding=None, metadata={'page_label': '4', 'file_name': 'InformacoesAgricultura_n.pdf', 'file_path': '/content/Documentos/InformacoesAgricultura_n.pdf', 'file_type': 'application/pdf', 'file_size': 274492, 'creation_date': '2025-03-20', 'last_modified_date': '2025-03-20'}, excluded_embed_metadata_keys=['file_name', 'file_type', 'file_size', 'creation_date', 'last_modified_date', 'last_accessed_date'], excluded_llm_metadata_keys=['file_name', 'file_type', 'file_size', 'creation_date', 'last_modified_date', 'last_accessed_date'], relationships={}, metadata_template='{key}: {value}', metadata_separator='\\n', text_resource=MediaResource(embeddings=None, data=None, text='• Fertilizantes Orgânicos: Compostos naturais como esterco, húmus de minhoca, \\nfarinha de ossos e restos vegetais. \\n• Fertilizantes Químicos: Compostos sintéticos como NPK (Nitrogênio, Fósforo e \\nPotássio), ureia, superfosfato e cloreto de potássio. \\n• Fertilizantes de Liberação Controlada: Gradualmente liberam os nutrientes no solo \\nao longo do tempo, otimizando o aproveitamento pelas plantas. \\nPreparo do Solo Passo a Passo \\n1. Análise do Solo: Coletar amostras e verificar pH, umidade e nutrientes. \\n2. Correção do Solo: Aplicar calcário, adubos e melhoradores conforme necessidade. \\n3. Aragem e Gradagem: Revolver o solo para aeração e nivelamento. \\n4. Adubação: Incorporar fertilizantes e matéria orgânica. \\n5. Preparo Final: Nivelar o solo e preparar os espaçamentos para a sementeira ou \\nmudas. \\n \\nPreparo e Manejo do Solo na Agricultura \\nImportância do Preparo Adequado do Solo \\nO preparo adequado do solo é essencial para criar condições favoráveis ao desenvolvimento \\ndas plantas. Um solo bem-preparado melhora a aeração, a infiltração de água e a \\ndisponibilidade de nutrientes, fatores cruciais para o crescimento saudável das culturas. \\nAlém disso, práticas de preparo do solo auxiliam no controle de plantas daninhas e pragas, \\ncontribuindo para uma produção agrícola mais eficiente e sustentável.  \\nFatores a Considerar no Preparo do Solo \\nAo preparar o solo para o plantio, é fundamental considerar os seguintes aspectos: \\n• Tipo de Solo: Conhecer as características físicas e químicas do solo, como textura, \\nestrutura e fertilidade, para adequar as práticas de manejo.  \\n• Umidade Ideal: Manter o nível de umidade adequado é vital para o desenvolvimento \\ndas plantas. A irrigação eficiente desempenha um papel crucial no manejo do solo, \\nespecialmente em regiões onde a disponibilidade de água é limitada.  \\n• pH do Solo: O pH influencia a disponibilidade de nutrientes. Solos ácidos podem \\nnecessitar de calagem, enquanto solos alcalinos podem requerer a aplicação de \\nenxofre ou fertilizantes ácidos.  \\n• Compactação: Evitar a compactação do solo é essencial para manter sua porosidade \\ne a saúde das raízes. O uso responsável de máquinas agrícolas, evitando o uso de ', path=None, url=None, mimetype=None), image_resource=None, audio_resource=None, video_resource=None, text_template='{metadata_str}\\n\\n{content}'),\n",
              " Document(id_='288092bd-bcd5-4ce4-8c36-0ac6d38ab6a6', embedding=None, metadata={'page_label': '5', 'file_name': 'InformacoesAgricultura_n.pdf', 'file_path': '/content/Documentos/InformacoesAgricultura_n.pdf', 'file_type': 'application/pdf', 'file_size': 274492, 'creation_date': '2025-03-20', 'last_modified_date': '2025-03-20'}, excluded_embed_metadata_keys=['file_name', 'file_type', 'file_size', 'creation_date', 'last_modified_date', 'last_accessed_date'], excluded_llm_metadata_keys=['file_name', 'file_type', 'file_size', 'creation_date', 'last_modified_date', 'last_accessed_date'], relationships={}, metadata_template='{key}: {value}', metadata_separator='\\n', text_resource=MediaResource(embeddings=None, data=None, text='máquinas pesadas em solos úmidos e planejando rotas específicas para minimizar o \\nimpacto sobre o solo, é fundamental para evitar a compactação. \\n• Erosão: Implementar práticas de conservação, como cobertura vegetal, plantio em \\ncurvas de nível e terraceamento, ajuda a prevenir a erosão do solo.  \\nTipos de Solo e Seu Tratamento \\nCada tipo de solo possui características específicas que demandam manejos diferenciados: \\n• Solo Arenoso: Possui drenagem rápida e baixo teor de nutrientes. A adição de \\nmatéria orgânica e irrigação frequente são recomendadas para melhorar sua \\ncapacidade de retenção de água e fertilidade.  \\n• Solo Argiloso: Retém muita água e pode compactar facilmente. Práticas como \\naeração e adição de areia podem melhorar a drenagem e a estrutura do solo.  \\n• Solo Calcário: Apresenta pH alto e baixa disponibilidade de micronutrientes. A \\ncorreção pode ser feita com adubação orgânica e uso de fertilizantes ácidos.  \\nTécnicas de Preparo do Solo \\nDiversas técnicas são utilizadas para preparar o solo, visando otimizar as condições para o \\ndesenvolvimento das culturas: \\n• Aração: Consiste no revolvimento profundo do solo, promovendo a aeração e o \\ncontrole de plantas daninhas.  \\n• Gradagem: Realiza a quebra de torrões e o nivelamento do solo após a aração, \\nmelhorando a estrutura superficial.  \\n• Subsolagem: Técnica que visa romper camadas compactadas abaixo da superfície, \\nfacilitando o aprofundamento das raízes e a infiltração de água.  \\n• Escarificação: Similar à subsolagem, porém menos profunda, auxilia na \\ndescompactação do solo e na melhoria da aeração.  \\nA escolha da técnica adequada depende das condições específicas de cada área e das \\nnecessidades das culturas a serem implantadas.   \\nPráticas de Conservação do Solo \\nPara manter a saúde e a produtividade do solo, é essencial adotar práticas de conservação: \\n• Rotação de Culturas: Alternar diferentes culturas na mesma área ao longo do tempo \\najuda a evitar o esgotamento de nutrientes específicos e reduz a incidência de \\npragas e doenças.   ', path=None, url=None, mimetype=None), image_resource=None, audio_resource=None, video_resource=None, text_template='{metadata_str}\\n\\n{content}'),\n",
              " Document(id_='d4664b96-3225-456f-bc49-1b9c40f124b1', embedding=None, metadata={'page_label': '6', 'file_name': 'InformacoesAgricultura_n.pdf', 'file_path': '/content/Documentos/InformacoesAgricultura_n.pdf', 'file_type': 'application/pdf', 'file_size': 274492, 'creation_date': '2025-03-20', 'last_modified_date': '2025-03-20'}, excluded_embed_metadata_keys=['file_name', 'file_type', 'file_size', 'creation_date', 'last_modified_date', 'last_accessed_date'], excluded_llm_metadata_keys=['file_name', 'file_type', 'file_size', 'creation_date', 'last_modified_date', 'last_accessed_date'], relationships={}, metadata_template='{key}: {value}', metadata_separator='\\n', text_resource=MediaResource(embeddings=None, data=None, text='• Cobertura Vegetal: Manter o solo coberto com plantas, como culturas de cobertura \\nou palhada, protege contra a erosão e melhora a estrutura do solo.   \\n• Plantio Direto: Sistema que evita o revolvimento do solo, mantendo os resíduos da \\ncultura anterior na superfície, o que conserva a umidade e reduz a erosão.  \\n• Terraceamento: Construção de terraços em áreas inclinadas para reduzir a \\nvelocidade de escoamento da água e minimizar a erosão.   \\n• Curvas de Nível: Realizar o plantio seguindo as linhas de nível do terreno ajuda a \\ndiminuir a erosão hídrica e a conservar o solo.  \\nManejo da Compactação do Solo \\nA compactação do solo pode prejudicar o desenvolvimento das plantas ao reduzir a \\nporosidade e dificultar a penetração das raízes. Para evitar e corrigir a compactação, \\nrecomenda-se: \\nUso Moderado de Máquinas: Evitar o tráfego excessivo de máquinas pesadas, \\nespecialmente em solos úmidos, para prevenir a compactação.   \\nRotação de Culturas: Além de seus outros benefícios, a rotação de culturas contribui para a \\nmanutenção da estrutura do solo, reduzindo a compactação. \\nSubsolagem: Quando necessário, realizar a subsolagem para romper camadas compactadas \\ne restabelecer a porosidade do solo.  \\nManejo Integrado do Solo: Estratégias Avançadas para a Sustentabilidade Agrícola \\nO manejo integrado do solo é uma abordagem holística que combina diversas práticas \\nagrícolas visando à sustentabilidade, produtividade e conservação dos recursos naturais. A \\nseguir, são detalhadas estratégias avançadas que complementam as práticas já \\nmencionadas: Credited \\nAgricultura de Conservação \\nEsta prática envolve técnicas que minimizam a perturbação do solo, mantendo sua estrutura \\ne biodiversidade.Componentes principais incluem:  \\nCultivo Mínimo: Reduzir o revolvimento do solo para preservar sua estrutura natural e a \\nmatéria orgânica.  \\nCobertura Permanente do Solo: Manter o solo sempre coberto com resíduos culturais ou \\nplantas de cobertura para proteger contra a erosão e conservar a umidade.  \\nDiversificação de Culturas: Implementar rotações e consórcios de culturas para melhorar a \\nsaúde do solo e quebrar ciclos de pragas e doenças.  \\nAdubação Verde ', path=None, url=None, mimetype=None), image_resource=None, audio_resource=None, video_resource=None, text_template='{metadata_str}\\n\\n{content}'),\n",
              " Document(id_='a1a50d8c-a542-483d-bcdb-436a925cbae1', embedding=None, metadata={'page_label': '7', 'file_name': 'InformacoesAgricultura_n.pdf', 'file_path': '/content/Documentos/InformacoesAgricultura_n.pdf', 'file_type': 'application/pdf', 'file_size': 274492, 'creation_date': '2025-03-20', 'last_modified_date': '2025-03-20'}, excluded_embed_metadata_keys=['file_name', 'file_type', 'file_size', 'creation_date', 'last_modified_date', 'last_accessed_date'], excluded_llm_metadata_keys=['file_name', 'file_type', 'file_size', 'creation_date', 'last_modified_date', 'last_accessed_date'], relationships={}, metadata_template='{key}: {value}', metadata_separator='\\n', text_resource=MediaResource(embeddings=None, data=None, text='Consiste no cultivo de plantas específicas que são incorporadas ao solo para melhorar sua \\nfertilidade e estrutura.Benefícios incluem:  \\nFixação Biológica de Nitrogênio: Leguminosas, como feijão-guandu e crotalária, fixam \\nnitrogênio atmosférico, enriquecendo o solo.  \\nCiclagem de Nutrientes: Plantas de raízes profundas, como a mucuna, trazem nutrientes \\ndas camadas inferiores para a superfície.  \\nSupressão de Plantas Daninhas: A cobertura densa impede o crescimento de espécies \\nindesejadas.  \\nManejo Biológico do Solo \\nEnvolve o uso de organismos vivos para promover a saúde do solo e das plantas. Práticas \\nincluem:  \\nInoculação com Microrganismos Benéficos: Aplicação de rizóbios, micorrizas e outros \\nmicrorganismos que melhoram a absorção de nutrientes e a resistência a patógenos.  \\nCompostagem e Biofertilizantes: Uso de compostos orgânicos ricos em microrganismos que \\naumentam a atividade biológica do solo.  \\nSistemas Agroflorestais \\nIntegração de árvores e arbustos com culturas agrícolas e/ou pecuária, proporcionando \\nbenefícios como:  \\nMelhoria da Estrutura do Solo: As raízes das árvores aumentam a porosidade e a infiltração \\nde água.  \\nCiclagem de Nutrientes: As árvores capturam nutrientes das camadas mais profundas e os \\ndisponibilizam na superfície através da queda de folhas.  \\nBiodiversidade: Aumenta a diversidade de espécies, promovendo um ecossistema mais \\nresiliente.  \\nGestão da Salinidade do Solo \\nEm áreas suscetíveis à salinização, é crucial adotar práticas que previnam o acúmulo de sais:  \\nIrrigação Adequada: Uso de água de boa qualidade e técnicas que evitem o acúmulo de sais \\nna superfície.  \\nDrenagem Eficiente: Implementação de sistemas que removam o excesso de água e sais do \\nsolo.  \\nUso de Emendas: Aplicação de gesso agrícola para substituir sódio por cálcio, melhorando a \\nestrutura do solo.  ', path=None, url=None, mimetype=None), image_resource=None, audio_resource=None, video_resource=None, text_template='{metadata_str}\\n\\n{content}'),\n",
              " Document(id_='a44aea21-f79b-4bcc-a69f-712e8864bbfa', embedding=None, metadata={'page_label': '8', 'file_name': 'InformacoesAgricultura_n.pdf', 'file_path': '/content/Documentos/InformacoesAgricultura_n.pdf', 'file_type': 'application/pdf', 'file_size': 274492, 'creation_date': '2025-03-20', 'last_modified_date': '2025-03-20'}, excluded_embed_metadata_keys=['file_name', 'file_type', 'file_size', 'creation_date', 'last_modified_date', 'last_accessed_date'], excluded_llm_metadata_keys=['file_name', 'file_type', 'file_size', 'creation_date', 'last_modified_date', 'last_accessed_date'], relationships={}, metadata_template='{key}: {value}', metadata_separator='\\n', text_resource=MediaResource(embeddings=None, data=None, text='Monitoramento e Análise Contínua do Solo \\nA tomada de decisões informadas depende de um monitoramento constante:  \\nAnálises Regulares de Solo: Avaliar periodicamente os teores de nutrientes, matéria \\norgânica, pH e outros indicadores de saúde do solo.  \\nTecnologias de Precisão: Uso de sensores e ferramentas digitais para monitorar variáveis \\ncomo umidade, compactação e fertilidade em tempo real.  \\nEducação e Capacitação Contínua \\nManter-se atualizado sobre novas técnicas e conhecimentos é fundamental:  \\nParticipação em Cursos e Workshops: Engajar-se em treinamentos sobre práticas \\nsustentáveis e inovações no manejo do solo.  \\nColaboração com Instituições de Pesquisa: Estabelecer parcerias com universidades e \\ncentros de pesquisa para acesso a novas tecnologias e práticas recomendadas.  \\nPlanejamento Integrado da Paisagem \\nConsiderar a paisagem como um todo permite um manejo mais eficiente:  \\nZoneamento Agroecológico: Identificar áreas com aptidões específicas para determinadas \\nculturas, otimizando o uso do solo.  \\nCorredores Ecológicos: Manter áreas de vegetação nativa conectadas para preservar a \\nbiodiversidade e os serviços ecossistêmicos.  \\nRecuperação de Solos Degradados \\nSolos que sofreram degradação exigem intervenções específicas:  \\nReflorestamento: Plantio de espécies nativas para recuperar a estrutura e a fertilidade do \\nsolo.  \\nTécnicas de Biorremediação: Uso de plantas e microrganismos para remover contaminantes \\ne restaurar a saúde do solo.  \\n \\nPolíticas Públicas e Incentivos \\nGovernos e instituições podem promover práticas sustentáveis através de: cadenaser.com \\nIncentivos Financeiros: Subsídios e créditos para agricultores que adotam práticas de \\nconservação do solo.  \\nRegulamentações Ambientais: Estabelecimento de normas que incentivem o uso \\nresponsável e sustentável do solo.  ', path=None, url=None, mimetype=None), image_resource=None, audio_resource=None, video_resource=None, text_template='{metadata_str}\\n\\n{content}'),\n",
              " Document(id_='1e0f7cc0-3cbb-4279-98e5-ea2fb5338115', embedding=None, metadata={'page_label': '9', 'file_name': 'InformacoesAgricultura_n.pdf', 'file_path': '/content/Documentos/InformacoesAgricultura_n.pdf', 'file_type': 'application/pdf', 'file_size': 274492, 'creation_date': '2025-03-20', 'last_modified_date': '2025-03-20'}, excluded_embed_metadata_keys=['file_name', 'file_type', 'file_size', 'creation_date', 'last_modified_date', 'last_accessed_date'], excluded_llm_metadata_keys=['file_name', 'file_type', 'file_size', 'creation_date', 'last_modified_date', 'last_accessed_date'], relationships={}, metadata_template='{key}: {value}', metadata_separator='\\n', text_resource=MediaResource(embeddings=None, data=None, text='Ao integrar essas estratégias avançadas no manejo do solo, é possível alcançar uma \\nagricultura mais sustentável, produtiva e resiliente, garantindo a conservação dos recursos \\nnaturais para as futuras gerações. \\nCatuaí Amarelo \\nO Catuaí Amarelo é uma variedade de café arábica desenvolvida no Brasil pelo Instituto \\nAgronômico de Campinas (IAC). Resulta do cruzamento entre as cultivares Mundo Novo e \\nCaturra Amarelo, combinando a robustez e produtividade do Mundo Novo com o porte \\nbaixo e precocidade do Caturra. A cultivar foi liberada para fins comerciais em 1972.  \\nCaracterísticas Agronômicas: \\n• Porte: Apresenta porte baixo, facilitando o manejo, a colheita e permitindo maior \\ndensidade de plantio.  \\n• Produtividade: Elevada, com capacidade de adaptação a diversas regiões cafeeiras.  \\n• Maturação: Intermediária a tardia, permitindo um planejamento adequado da \\ncolheita.  \\n• Tamanho dos Grãos: Médio, com peneira média.  \\n• Resistência a Doenças: Não possui resistência significativa a doenças comuns do \\ncafeeiro, exigindo manejo fitossanitário adequado.  \\nAdaptação e Cultivo: \\nO Catuaí Amarelo é amplamente cultivado em diversas regiões cafeeiras do Brasil, devido à \\nsua adaptabilidade e produtividade. É especialmente indicado para áreas de altitude, onde \\npode expressar melhor seu potencial produtivo e qualitativo. Devido ao seu porte baixo, \\npermite maior densidade de plantio, tornando mais eficiente o uso da área disponível.  \\nCaracterísticas Sensoriais: \\nNa xícara, o Catuaí Amarelo oferece uma bebida de sabor suave, com acidez média e notas \\nadocicadas que podem lembrar caramelo e frutas como banana. Sua leveza e delicadeza o \\ntornam uma opção apreciada por consumidores que buscam um café equilibrado e \\naromático.  \\nImportância no Mercado de Cafés Especiais: \\nDevido às suas características sensoriais e à possibilidade de manejo que resulta em grãos \\nde alta qualidade, o Catuaí Amarelo tem ganhado destaque no mercado de cafés especiais. \\nSua versatilidade permite a produção de bebidas com perfis diferenciados, atendendo a \\ndiversos paladares e contribuindo para a valorização do café brasileiro no mercado \\ninternacional.  ', path=None, url=None, mimetype=None), image_resource=None, audio_resource=None, video_resource=None, text_template='{metadata_str}\\n\\n{content}'),\n",
              " Document(id_='b75b7724-46e9-4ae9-85b9-075c7092a2c0', embedding=None, metadata={'page_label': '10', 'file_name': 'InformacoesAgricultura_n.pdf', 'file_path': '/content/Documentos/InformacoesAgricultura_n.pdf', 'file_type': 'application/pdf', 'file_size': 274492, 'creation_date': '2025-03-20', 'last_modified_date': '2025-03-20'}, excluded_embed_metadata_keys=['file_name', 'file_type', 'file_size', 'creation_date', 'last_modified_date', 'last_accessed_date'], excluded_llm_metadata_keys=['file_name', 'file_type', 'file_size', 'creation_date', 'last_modified_date', 'last_accessed_date'], relationships={}, metadata_template='{key}: {value}', metadata_separator='\\n', text_resource=MediaResource(embeddings=None, data=None, text=\"Considerações para o Produtor: \\n• Manejo Fitossanitário: Devido à sua susceptibilidade a certas doenças, é essencial \\nimplementar um programa de manejo integrado de pragas e doenças para garantir a \\nsaúde das plantas e a qualidade da produção.  \\n• Condições Climáticas: Embora adaptável a diversas regiões, o Catuaí Amarelo \\napresenta melhor desempenho em altitudes elevadas, onde as condições climáticas \\nfavorecem a expressão de suas melhores características sensoriais.  \\n• Adubação e Nutrição: Devido à sua alta produtividade, requer um programa de \\nadubação cuidadoso para repor os nutrientes extraídos pela cultura e manter a \\nfertilidade do solo.  \\n• Colheita e Pós-Colheita: A maturação intermediária a tardia permite um \\nplanejamento adequado da colheita. Práticas de pós-colheita, como processamento \\ne secagem adequados, são fundamentais para preservar a qualidade dos grãos e \\nrealçar as características sensoriais da bebida. \\n• Tipos de Sementes e Preços \\n• P: Quais tipos de sementes estão disponíveis para plantio e qual o preço de cada uma? \\n• R: Aqui estão algumas opções de sementes e seus preços aproximados: \\n• • Sementes de Milho ( variedade 'Cargill'): Ideal para solos bem drenados, com pH \\nentre 5,5 e 7,0, rica em nitrogênio. \\nPreço: R$ 30,00 por pacote (1 kg). \\n• • Sementes de Soja (variedade 'BRS 1010'): Necessita de solo com boa retenção de \\numidade, pH entre 6,0 e 7,0. \\nPreço: R$ 50,00 por pacote (1 kg). \\n• • Sementes de Trigo (variedade 'BRS 254'): Desenvolve-se melhor em solos \\nprofundos e bem drenados, pH entre 6,0 e 7,5. \\nPreço: R$ 35,00 por pacote (1 kg). \\n• • Sementes de Alface (variedade 'Vera'): Ideal para solos leves, bem drenados e \\nricos em matéria orgânica, com pH entre 5,5 e 6,8. \\nPreço: R$ 20,00 por pacote (1 kg). \\n• • Sementes de Tomate (variedade 'Italiano'): Precisa de solo bem drenado, com pH \\nentre 5,5 e 6,8. \\nPreço: R$ 25,00 por pacote (1 kg). \\n• P: Os preços variam conforme o fornecedor e a região. Para obter o preço exato e a \\ndisponibilidade, é importante entrar em contato diretamente com o fornecedor ou o \\ndistribuidor local. \\n \", path=None, url=None, mimetype=None), image_resource=None, audio_resource=None, video_resource=None, text_template='{metadata_str}\\n\\n{content}')]"
            ]
          },
          "metadata": {},
          "execution_count": 106
        }
      ],
      "source": [
        "docs"
      ]
    },
    {
      "cell_type": "code",
      "execution_count": null,
      "metadata": {
        "id": "uBpu6FHRm95_",
        "colab": {
          "base_uri": "https://localhost:8080/"
        },
        "outputId": "fcf4978c-55c9-4be0-eb90-ca2f9d9420e0"
      },
      "outputs": [
        {
          "output_type": "execute_result",
          "data": {
            "text/plain": [
              "10"
            ]
          },
          "metadata": {},
          "execution_count": 107
        }
      ],
      "source": [
        "len(docs)"
      ]
    },
    {
      "cell_type": "code",
      "execution_count": null,
      "metadata": {
        "id": "jaRC93h1nBNw",
        "colab": {
          "base_uri": "https://localhost:8080/"
        },
        "outputId": "c9c734cd-3569-4f6b-8f53-e5ce53656f4d"
      },
      "outputs": [
        {
          "output_type": "stream",
          "name": "stdout",
          "text": [
            "page_label: 1\n",
            "file_name: InformacoesAgricultura_n.pdf\n",
            "file_path: /content/Documentos/InformacoesAgricultura_n.pdf\n",
            "file_type: application/pdf\n",
            "file_size: 274492\n",
            "creation_date: 2025-03-20\n",
            "last_modified_date: 2025-03-20\n"
          ]
        }
      ],
      "source": [
        "print(docs[0].get_metadata_str())"
      ]
    },
    {
      "cell_type": "code",
      "execution_count": null,
      "metadata": {
        "id": "uhxdsJYlnH-g",
        "colab": {
          "base_uri": "https://localhost:8080/"
        },
        "outputId": "cf342e69-d9fb-425f-85ca-b892f7b0fe7f"
      },
      "outputs": [
        {
          "output_type": "execute_result",
          "data": {
            "text/plain": [
              "{'id_': 'ca6f6795-f482-400b-8ae7-cf93490eaa29',\n",
              " 'embedding': None,\n",
              " 'metadata': {'page_label': '1',\n",
              "  'file_name': 'InformacoesAgricultura_n.pdf',\n",
              "  'file_path': '/content/Documentos/InformacoesAgricultura_n.pdf',\n",
              "  'file_type': 'application/pdf',\n",
              "  'file_size': 274492,\n",
              "  'creation_date': '2025-03-20',\n",
              "  'last_modified_date': '2025-03-20'},\n",
              " 'excluded_embed_metadata_keys': ['file_name',\n",
              "  'file_type',\n",
              "  'file_size',\n",
              "  'creation_date',\n",
              "  'last_modified_date',\n",
              "  'last_accessed_date'],\n",
              " 'excluded_llm_metadata_keys': ['file_name',\n",
              "  'file_type',\n",
              "  'file_size',\n",
              "  'creation_date',\n",
              "  'last_modified_date',\n",
              "  'last_accessed_date'],\n",
              " 'relationships': {},\n",
              " 'metadata_template': '{key}: {value}',\n",
              " 'metadata_separator': '\\n',\n",
              " 'text_resource': MediaResource(embeddings=None, data=None, text='Guia de Preparo do Solo para Plantio \\nInformações Gerais \\nP: Qual a importância do preparo adequado do solo? \\nR: O preparo adequado do solo garante que as plantas tenham acesso aos nutrientes \\nnecessários, além de melhorar a retenção de água e a aeração, fatores essenciais para o \\ncrescimento saudável.  \\nP: Quais fatores devem ser considerados ao preparar o solo para o plantio? \\nR: Os principais fatores incluem o tipo de solo, a umidade ideal, o pH, a compactação e a \\nadubação adequada para cada cultura.  \\n \\nTipos de Solo e Seu Tratamento \\nP: Quais são os principais tipos de solo e como prepará-los? \\nR: Existem diversos tipos de solo, cada um com características específicas e tratamentos \\nrecomendados:  \\n• Solo Arenoso: Possui drenagem rápida e baixo teor de nutrientes. Recomenda-se a \\nadição de matéria orgânica e irrigação frequente.  \\n• Solo Argiloso: Retém muita água e pode compactar facilmente. A aeração e a adição \\nde areia podem melhorar a drenagem.  \\n• Solo Calcário: Apresenta pH alto e pouca disponibilidade de micronutrientes. Pode \\nser corrigido com adubação orgânica e fertilizantes ácidos. \\n \\nSensores para Monitoramento da Umidade do Solo \\nP: Quais sensores podem ser usados para monitorar a umidade do solo? \\nR: Existem diversas tecnologias para medir a umidade do solo, entre elas:  \\n• Sensor Capacitivo de Umidade do Solo: Mede a variação da capacitância conforme o \\nnível de umidade.  ', path=None, url=None, mimetype=None),\n",
              " 'image_resource': None,\n",
              " 'audio_resource': None,\n",
              " 'video_resource': None,\n",
              " 'text_template': '{metadata_str}\\n\\n{content}'}"
            ]
          },
          "metadata": {},
          "execution_count": 109
        }
      ],
      "source": [
        "docs[0].__dict__"
      ]
    },
    {
      "cell_type": "code",
      "execution_count": null,
      "metadata": {
        "id": "sAmN_wZVnMMw"
      },
      "outputs": [],
      "source": [
        "# importando a biblioteca\n",
        "from llama_index.core.node_parser import SentenceSplitter\n",
        "node_parser= SentenceSplitter(chunk_size=1200)"
      ]
    },
    {
      "cell_type": "code",
      "execution_count": null,
      "metadata": {
        "id": "OqZbZNFrndYA",
        "colab": {
          "base_uri": "https://localhost:8080/",
          "height": 49,
          "referenced_widgets": [
            "744c79838c4c4ba8aae05d0682a1cc59",
            "bce6319a6ed94e3c94a4858c81ee374c",
            "167a33c5c2e045d78927ad80e6544538",
            "73ce839ea3c44eafbb3b872350157356",
            "65b65dd85c03424dac6b4c9dc5b33d16",
            "254278b7b8b74f01a286c9262124c085",
            "9ee351a26a814655851674dcfddea0f4",
            "b33679c913164ab5b8fa492bf371c6dc",
            "46e1ffef6c5a4b139cdb8559a2966d30",
            "53d3cf6910e043e19d63533e5adcf38f",
            "e96f2232bf344c9f8fd4aa9e337651de"
          ]
        },
        "outputId": "e757e17b-18b4-43ea-d0a3-7a77ee76753e"
      },
      "outputs": [
        {
          "output_type": "display_data",
          "data": {
            "text/plain": [
              "Parsing nodes:   0%|          | 0/10 [00:00<?, ?it/s]"
            ],
            "application/vnd.jupyter.widget-view+json": {
              "version_major": 2,
              "version_minor": 0,
              "model_id": "744c79838c4c4ba8aae05d0682a1cc59"
            }
          },
          "metadata": {}
        }
      ],
      "source": [
        "nodes = node_parser.get_nodes_from_documents(docs,show_progress=True)"
      ]
    },
    {
      "cell_type": "code",
      "execution_count": null,
      "metadata": {
        "id": "PGqojf0qngUP",
        "colab": {
          "base_uri": "https://localhost:8080/"
        },
        "outputId": "3f580b57-ccd4-471a-f5af-058e17dd026a"
      },
      "outputs": [
        {
          "output_type": "execute_result",
          "data": {
            "text/plain": [
              "[TextNode(id_='6483e906-24ef-478d-b66d-ec2816cd3078', embedding=None, metadata={'page_label': '1', 'file_name': 'InformacoesAgricultura_n.pdf', 'file_path': '/content/Documentos/InformacoesAgricultura_n.pdf', 'file_type': 'application/pdf', 'file_size': 274492, 'creation_date': '2025-03-20', 'last_modified_date': '2025-03-20'}, excluded_embed_metadata_keys=['file_name', 'file_type', 'file_size', 'creation_date', 'last_modified_date', 'last_accessed_date'], excluded_llm_metadata_keys=['file_name', 'file_type', 'file_size', 'creation_date', 'last_modified_date', 'last_accessed_date'], relationships={<NodeRelationship.SOURCE: '1'>: RelatedNodeInfo(node_id='ca6f6795-f482-400b-8ae7-cf93490eaa29', node_type=<ObjectType.DOCUMENT: '4'>, metadata={'page_label': '1', 'file_name': 'InformacoesAgricultura_n.pdf', 'file_path': '/content/Documentos/InformacoesAgricultura_n.pdf', 'file_type': 'application/pdf', 'file_size': 274492, 'creation_date': '2025-03-20', 'last_modified_date': '2025-03-20'}, hash='444b15013dbb436af6983b1da9d8ac61e433081ef266889ea8843915f8a08c6c')}, metadata_template='{key}: {value}', metadata_separator='\\n', text='Guia de Preparo do Solo para Plantio \\nInformações Gerais \\nP: Qual a importância do preparo adequado do solo? \\nR: O preparo adequado do solo garante que as plantas tenham acesso aos nutrientes \\nnecessários, além de melhorar a retenção de água e a aeração, fatores essenciais para o \\ncrescimento saudável.  \\nP: Quais fatores devem ser considerados ao preparar o solo para o plantio? \\nR: Os principais fatores incluem o tipo de solo, a umidade ideal, o pH, a compactação e a \\nadubação adequada para cada cultura.  \\n \\nTipos de Solo e Seu Tratamento \\nP: Quais são os principais tipos de solo e como prepará-los? \\nR: Existem diversos tipos de solo, cada um com características específicas e tratamentos \\nrecomendados:  \\n• Solo Arenoso: Possui drenagem rápida e baixo teor de nutrientes. Recomenda-se a \\nadição de matéria orgânica e irrigação frequente.  \\n• Solo Argiloso: Retém muita água e pode compactar facilmente. A aeração e a adição \\nde areia podem melhorar a drenagem.  \\n• Solo Calcário: Apresenta pH alto e pouca disponibilidade de micronutrientes. Pode \\nser corrigido com adubação orgânica e fertilizantes ácidos. \\n \\nSensores para Monitoramento da Umidade do Solo \\nP: Quais sensores podem ser usados para monitorar a umidade do solo? \\nR: Existem diversas tecnologias para medir a umidade do solo, entre elas:  \\n• Sensor Capacitivo de Umidade do Solo: Mede a variação da capacitância conforme o \\nnível de umidade.', mimetype='text/plain', start_char_idx=0, end_char_idx=1415, metadata_seperator='\\n', text_template='{metadata_str}\\n\\n{content}'),\n",
              " TextNode(id_='0d18ede5-1441-4664-aaac-cd5b1e680f37', embedding=None, metadata={'page_label': '2', 'file_name': 'InformacoesAgricultura_n.pdf', 'file_path': '/content/Documentos/InformacoesAgricultura_n.pdf', 'file_type': 'application/pdf', 'file_size': 274492, 'creation_date': '2025-03-20', 'last_modified_date': '2025-03-20'}, excluded_embed_metadata_keys=['file_name', 'file_type', 'file_size', 'creation_date', 'last_modified_date', 'last_accessed_date'], excluded_llm_metadata_keys=['file_name', 'file_type', 'file_size', 'creation_date', 'last_modified_date', 'last_accessed_date'], relationships={<NodeRelationship.SOURCE: '1'>: RelatedNodeInfo(node_id='b55a6542-3f0f-4106-be52-722957851394', node_type=<ObjectType.DOCUMENT: '4'>, metadata={'page_label': '2', 'file_name': 'InformacoesAgricultura_n.pdf', 'file_path': '/content/Documentos/InformacoesAgricultura_n.pdf', 'file_type': 'application/pdf', 'file_size': 274492, 'creation_date': '2025-03-20', 'last_modified_date': '2025-03-20'}, hash='50cdd7695c7769a5300d02bb387a59ec0b5424ce0faafa92189056054d0f62b1')}, metadata_template='{key}: {value}', metadata_separator='\\n', text='• Sensor Resistivo de Umidade: Mede a condutividade elétrica do solo, variando \\nconforme a umidade.  \\n• Sensor TDR (Time Domain Reflectometry): Utiliza pulsos eletromagnéticos para \\ncalcular a umidade com alta precisão.  \\n• Sondas de Tensiômetro: Medem a tensão com que a água está sendo retida no solo, \\nindicando o nível de umidade disponível para as plantas. \\nEsses sensores são fundamentais para o manejo eficiente da irrigação e para evitar o \\nestresse hídrico das plantas.  \\n \\nUmidade e pH Ideais \\nP: Como medir e ajustar a umidade do solo? \\nR: A umidade pode ser medida com sensores ou por testes simples (amassando o solo na \\nmão). Para solos muito secos, a irrigação regular é essencial; para solos muito úmidos, deve-\\nse aplicar um sistema de drenagem adequado.  \\nP: Como ajustar o pH do solo para diferentes culturas? \\nR: O pH do solo pode ser medido com kits de teste. Para correção:  \\n• Solo ácido (pH baixo): Aplicação de calcário.  \\n• Solo alcalino (pH alto): Uso de enxofre ou fertilizantes ácidos. \\n \\nCulturas e Suas Necessidades \\nP: Quais são as recomendações de preparo do solo para diferentes sementes? \\nR: Cada cultura tem exigências específicas:  \\n• Milho: Prefere solo bem drenado, pH entre 5,5 e 7,0, rico em nitrogênio.  \\n• Soja: Necessita de solo com boa retenção de umidade, pH entre 6,0 e 7,0, e fixação \\nbiológica de nitrogênio.  \\n• Trigo: Desenvolve-se melhor em solos profundos e bem drenados, pH entre 6,0 e \\n7,5, rico em fósforo.  \\n• Hortaliças (alface, tomate, cenoura): Precisam de solo leve, bem drenado e rico em \\nmatéria orgânica, com pH entre 5,5 e 6,8. \\nP: Como garantir a fertilidade do solo?', mimetype='text/plain', start_char_idx=0, end_char_idx=1633, metadata_seperator='\\n', text_template='{metadata_str}\\n\\n{content}'),\n",
              " TextNode(id_='a72f6405-c732-48a0-9216-2a4278e2eccc', embedding=None, metadata={'page_label': '3', 'file_name': 'InformacoesAgricultura_n.pdf', 'file_path': '/content/Documentos/InformacoesAgricultura_n.pdf', 'file_type': 'application/pdf', 'file_size': 274492, 'creation_date': '2025-03-20', 'last_modified_date': '2025-03-20'}, excluded_embed_metadata_keys=['file_name', 'file_type', 'file_size', 'creation_date', 'last_modified_date', 'last_accessed_date'], excluded_llm_metadata_keys=['file_name', 'file_type', 'file_size', 'creation_date', 'last_modified_date', 'last_accessed_date'], relationships={<NodeRelationship.SOURCE: '1'>: RelatedNodeInfo(node_id='dd4044e3-a426-4941-a5be-33a5e56d893d', node_type=<ObjectType.DOCUMENT: '4'>, metadata={'page_label': '3', 'file_name': 'InformacoesAgricultura_n.pdf', 'file_path': '/content/Documentos/InformacoesAgricultura_n.pdf', 'file_type': 'application/pdf', 'file_size': 274492, 'creation_date': '2025-03-20', 'last_modified_date': '2025-03-20'}, hash='2ec44af6118ff5707f788074bf87a0f8bc07dab811e3cc3f8973ba62d5489ea6')}, metadata_template='{key}: {value}', metadata_separator='\\n', text='R: O solo deve ser adubado de acordo com as necessidades da cultura. A adubação pode \\nser:  \\n• Orgânica: Composta por compostos naturais, como esterco e húmus de minhoca.  \\n• Química: Com uso de fertilizantes sintéticos, como NPK. \\nA análise do solo é fundamental para determinar os nutrientes necessários.  \\n \\nTipos de Fertilizantes \\nP: Quais são os principais fertilizantes usados no solo? \\nR: Os fertilizantes podem ser classificados em:  \\n• Fertilizantes Orgânicos: Compostos naturais, como esterco, húmus de minhoca, \\nfarinha de ossos e restos vegetais.  \\n• Fertilizantes Químicos: Compostos sintéticos, como NPK (Nitrogênio, Fósforo e \\nPotássio), ureia, superfosfato e cloreto de potássio.  \\n• Fertilizantes de Liberação Controlada: Gradualmente liberam os nutrientes no solo \\nao longo do tempo, otimizando o aproveitamento pelas plantas. \\n \\nPreparo do Solo Passo a Passo \\n1. Análise do Solo: Coletar amostras e verificar pH, umidade e nutrientes.  \\n2. Correção do Solo: Aplicar calcário, adubos e melhoradores conforme necessidade.  \\n3. Aragem e Gradagem: Revolver o solo para aeração e nivelamento.  \\n4. Adubação: Incorporar fertilizantes e matéria orgânica.  \\n5. Preparo Final: Nivelar o solo e preparar os espaçamentos para a sementeira ou \\nmudas. \\n \\nAgora o texto está mais claro e bem estruturado, mantendo todas as informações \\nimportantes. Caso precise de mais ajustes ou formatação específica, me avise! 😊 \\n \\nTipos de Fertilizantes \\nP: Quais são os principais fertilizantes usados no solo? \\n R: Os fertilizantes podem ser classificados em:', mimetype='text/plain', start_char_idx=0, end_char_idx=1554, metadata_seperator='\\n', text_template='{metadata_str}\\n\\n{content}'),\n",
              " TextNode(id_='9413245f-49d7-4339-ad55-abb315eb2046', embedding=None, metadata={'page_label': '4', 'file_name': 'InformacoesAgricultura_n.pdf', 'file_path': '/content/Documentos/InformacoesAgricultura_n.pdf', 'file_type': 'application/pdf', 'file_size': 274492, 'creation_date': '2025-03-20', 'last_modified_date': '2025-03-20'}, excluded_embed_metadata_keys=['file_name', 'file_type', 'file_size', 'creation_date', 'last_modified_date', 'last_accessed_date'], excluded_llm_metadata_keys=['file_name', 'file_type', 'file_size', 'creation_date', 'last_modified_date', 'last_accessed_date'], relationships={<NodeRelationship.SOURCE: '1'>: RelatedNodeInfo(node_id='b0ebd0c9-af2f-400e-9c21-26d4fd2bddca', node_type=<ObjectType.DOCUMENT: '4'>, metadata={'page_label': '4', 'file_name': 'InformacoesAgricultura_n.pdf', 'file_path': '/content/Documentos/InformacoesAgricultura_n.pdf', 'file_type': 'application/pdf', 'file_size': 274492, 'creation_date': '2025-03-20', 'last_modified_date': '2025-03-20'}, hash='cdc665ef0e62580f3b34b41443ca67768ddcf39d4249caba046d5619831677cd')}, metadata_template='{key}: {value}', metadata_separator='\\n', text='• Fertilizantes Orgânicos: Compostos naturais como esterco, húmus de minhoca, \\nfarinha de ossos e restos vegetais. \\n• Fertilizantes Químicos: Compostos sintéticos como NPK (Nitrogênio, Fósforo e \\nPotássio), ureia, superfosfato e cloreto de potássio. \\n• Fertilizantes de Liberação Controlada: Gradualmente liberam os nutrientes no solo \\nao longo do tempo, otimizando o aproveitamento pelas plantas. \\nPreparo do Solo Passo a Passo \\n1. Análise do Solo: Coletar amostras e verificar pH, umidade e nutrientes. \\n2. Correção do Solo: Aplicar calcário, adubos e melhoradores conforme necessidade. \\n3. Aragem e Gradagem: Revolver o solo para aeração e nivelamento. \\n4. Adubação: Incorporar fertilizantes e matéria orgânica. \\n5. Preparo Final: Nivelar o solo e preparar os espaçamentos para a sementeira ou \\nmudas. \\n \\nPreparo e Manejo do Solo na Agricultura \\nImportância do Preparo Adequado do Solo \\nO preparo adequado do solo é essencial para criar condições favoráveis ao desenvolvimento \\ndas plantas. Um solo bem-preparado melhora a aeração, a infiltração de água e a \\ndisponibilidade de nutrientes, fatores cruciais para o crescimento saudável das culturas. \\nAlém disso, práticas de preparo do solo auxiliam no controle de plantas daninhas e pragas, \\ncontribuindo para uma produção agrícola mais eficiente e sustentável.  \\nFatores a Considerar no Preparo do Solo \\nAo preparar o solo para o plantio, é fundamental considerar os seguintes aspectos: \\n• Tipo de Solo: Conhecer as características físicas e químicas do solo, como textura, \\nestrutura e fertilidade, para adequar as práticas de manejo.  \\n• Umidade Ideal: Manter o nível de umidade adequado é vital para o desenvolvimento \\ndas plantas. A irrigação eficiente desempenha um papel crucial no manejo do solo, \\nespecialmente em regiões onde a disponibilidade de água é limitada.  \\n• pH do Solo: O pH influencia a disponibilidade de nutrientes. Solos ácidos podem \\nnecessitar de calagem, enquanto solos alcalinos podem requerer a aplicação de \\nenxofre ou fertilizantes ácidos.  \\n• Compactação: Evitar a compactação do solo é essencial para manter sua porosidade \\ne a saúde das raízes. O uso responsável de máquinas agrícolas, evitando o uso de', mimetype='text/plain', start_char_idx=0, end_char_idx=2190, metadata_seperator='\\n', text_template='{metadata_str}\\n\\n{content}'),\n",
              " TextNode(id_='c2b09595-0c86-40e3-9ffb-3be7dd3dffbd', embedding=None, metadata={'page_label': '5', 'file_name': 'InformacoesAgricultura_n.pdf', 'file_path': '/content/Documentos/InformacoesAgricultura_n.pdf', 'file_type': 'application/pdf', 'file_size': 274492, 'creation_date': '2025-03-20', 'last_modified_date': '2025-03-20'}, excluded_embed_metadata_keys=['file_name', 'file_type', 'file_size', 'creation_date', 'last_modified_date', 'last_accessed_date'], excluded_llm_metadata_keys=['file_name', 'file_type', 'file_size', 'creation_date', 'last_modified_date', 'last_accessed_date'], relationships={<NodeRelationship.SOURCE: '1'>: RelatedNodeInfo(node_id='288092bd-bcd5-4ce4-8c36-0ac6d38ab6a6', node_type=<ObjectType.DOCUMENT: '4'>, metadata={'page_label': '5', 'file_name': 'InformacoesAgricultura_n.pdf', 'file_path': '/content/Documentos/InformacoesAgricultura_n.pdf', 'file_type': 'application/pdf', 'file_size': 274492, 'creation_date': '2025-03-20', 'last_modified_date': '2025-03-20'}, hash='57f204ab57a2b9650bc49deeae72c8b586c2f5285a7004965373a4b72b037958')}, metadata_template='{key}: {value}', metadata_separator='\\n', text='máquinas pesadas em solos úmidos e planejando rotas específicas para minimizar o \\nimpacto sobre o solo, é fundamental para evitar a compactação. \\n• Erosão: Implementar práticas de conservação, como cobertura vegetal, plantio em \\ncurvas de nível e terraceamento, ajuda a prevenir a erosão do solo.  \\nTipos de Solo e Seu Tratamento \\nCada tipo de solo possui características específicas que demandam manejos diferenciados: \\n• Solo Arenoso: Possui drenagem rápida e baixo teor de nutrientes. A adição de \\nmatéria orgânica e irrigação frequente são recomendadas para melhorar sua \\ncapacidade de retenção de água e fertilidade.  \\n• Solo Argiloso: Retém muita água e pode compactar facilmente. Práticas como \\naeração e adição de areia podem melhorar a drenagem e a estrutura do solo.  \\n• Solo Calcário: Apresenta pH alto e baixa disponibilidade de micronutrientes. A \\ncorreção pode ser feita com adubação orgânica e uso de fertilizantes ácidos.  \\nTécnicas de Preparo do Solo \\nDiversas técnicas são utilizadas para preparar o solo, visando otimizar as condições para o \\ndesenvolvimento das culturas: \\n• Aração: Consiste no revolvimento profundo do solo, promovendo a aeração e o \\ncontrole de plantas daninhas.  \\n• Gradagem: Realiza a quebra de torrões e o nivelamento do solo após a aração, \\nmelhorando a estrutura superficial.  \\n• Subsolagem: Técnica que visa romper camadas compactadas abaixo da superfície, \\nfacilitando o aprofundamento das raízes e a infiltração de água.  \\n• Escarificação: Similar à subsolagem, porém menos profunda, auxilia na \\ndescompactação do solo e na melhoria da aeração.  \\nA escolha da técnica adequada depende das condições específicas de cada área e das \\nnecessidades das culturas a serem implantadas.   \\nPráticas de Conservação do Solo \\nPara manter a saúde e a produtividade do solo, é essencial adotar práticas de conservação: \\n• Rotação de Culturas: Alternar diferentes culturas na mesma área ao longo do tempo \\najuda a evitar o esgotamento de nutrientes específicos e reduz a incidência de \\npragas e doenças.', mimetype='text/plain', start_char_idx=0, end_char_idx=2035, metadata_seperator='\\n', text_template='{metadata_str}\\n\\n{content}'),\n",
              " TextNode(id_='3c0ed1b1-3418-4f6a-a557-d2eb54a83baa', embedding=None, metadata={'page_label': '6', 'file_name': 'InformacoesAgricultura_n.pdf', 'file_path': '/content/Documentos/InformacoesAgricultura_n.pdf', 'file_type': 'application/pdf', 'file_size': 274492, 'creation_date': '2025-03-20', 'last_modified_date': '2025-03-20'}, excluded_embed_metadata_keys=['file_name', 'file_type', 'file_size', 'creation_date', 'last_modified_date', 'last_accessed_date'], excluded_llm_metadata_keys=['file_name', 'file_type', 'file_size', 'creation_date', 'last_modified_date', 'last_accessed_date'], relationships={<NodeRelationship.SOURCE: '1'>: RelatedNodeInfo(node_id='d4664b96-3225-456f-bc49-1b9c40f124b1', node_type=<ObjectType.DOCUMENT: '4'>, metadata={'page_label': '6', 'file_name': 'InformacoesAgricultura_n.pdf', 'file_path': '/content/Documentos/InformacoesAgricultura_n.pdf', 'file_type': 'application/pdf', 'file_size': 274492, 'creation_date': '2025-03-20', 'last_modified_date': '2025-03-20'}, hash='78c843c7d9aea3d5636f6d8956bf55cc88a43cb08f0a7d05c0f8db87132bcd67')}, metadata_template='{key}: {value}', metadata_separator='\\n', text='• Cobertura Vegetal: Manter o solo coberto com plantas, como culturas de cobertura \\nou palhada, protege contra a erosão e melhora a estrutura do solo.   \\n• Plantio Direto: Sistema que evita o revolvimento do solo, mantendo os resíduos da \\ncultura anterior na superfície, o que conserva a umidade e reduz a erosão.  \\n• Terraceamento: Construção de terraços em áreas inclinadas para reduzir a \\nvelocidade de escoamento da água e minimizar a erosão.   \\n• Curvas de Nível: Realizar o plantio seguindo as linhas de nível do terreno ajuda a \\ndiminuir a erosão hídrica e a conservar o solo.  \\nManejo da Compactação do Solo \\nA compactação do solo pode prejudicar o desenvolvimento das plantas ao reduzir a \\nporosidade e dificultar a penetração das raízes. Para evitar e corrigir a compactação, \\nrecomenda-se: \\nUso Moderado de Máquinas: Evitar o tráfego excessivo de máquinas pesadas, \\nespecialmente em solos úmidos, para prevenir a compactação.   \\nRotação de Culturas: Além de seus outros benefícios, a rotação de culturas contribui para a \\nmanutenção da estrutura do solo, reduzindo a compactação. \\nSubsolagem: Quando necessário, realizar a subsolagem para romper camadas compactadas \\ne restabelecer a porosidade do solo.  \\nManejo Integrado do Solo: Estratégias Avançadas para a Sustentabilidade Agrícola \\nO manejo integrado do solo é uma abordagem holística que combina diversas práticas \\nagrícolas visando à sustentabilidade, produtividade e conservação dos recursos naturais. A \\nseguir, são detalhadas estratégias avançadas que complementam as práticas já \\nmencionadas: Credited \\nAgricultura de Conservação \\nEsta prática envolve técnicas que minimizam a perturbação do solo, mantendo sua estrutura \\ne biodiversidade.Componentes principais incluem:  \\nCultivo Mínimo: Reduzir o revolvimento do solo para preservar sua estrutura natural e a \\nmatéria orgânica.  \\nCobertura Permanente do Solo: Manter o solo sempre coberto com resíduos culturais ou \\nplantas de cobertura para proteger contra a erosão e conservar a umidade.  \\nDiversificação de Culturas: Implementar rotações e consórcios de culturas para melhorar a \\nsaúde do solo e quebrar ciclos de pragas e doenças.  \\nAdubação Verde', mimetype='text/plain', start_char_idx=0, end_char_idx=2176, metadata_seperator='\\n', text_template='{metadata_str}\\n\\n{content}'),\n",
              " TextNode(id_='639d60ca-7aad-4c94-9499-d68589ec8df9', embedding=None, metadata={'page_label': '7', 'file_name': 'InformacoesAgricultura_n.pdf', 'file_path': '/content/Documentos/InformacoesAgricultura_n.pdf', 'file_type': 'application/pdf', 'file_size': 274492, 'creation_date': '2025-03-20', 'last_modified_date': '2025-03-20'}, excluded_embed_metadata_keys=['file_name', 'file_type', 'file_size', 'creation_date', 'last_modified_date', 'last_accessed_date'], excluded_llm_metadata_keys=['file_name', 'file_type', 'file_size', 'creation_date', 'last_modified_date', 'last_accessed_date'], relationships={<NodeRelationship.SOURCE: '1'>: RelatedNodeInfo(node_id='a1a50d8c-a542-483d-bcdb-436a925cbae1', node_type=<ObjectType.DOCUMENT: '4'>, metadata={'page_label': '7', 'file_name': 'InformacoesAgricultura_n.pdf', 'file_path': '/content/Documentos/InformacoesAgricultura_n.pdf', 'file_type': 'application/pdf', 'file_size': 274492, 'creation_date': '2025-03-20', 'last_modified_date': '2025-03-20'}, hash='261e4c33dfd35bdb66c1d1756357097305d33ee8b98a6d2ab8517fddb3decb76')}, metadata_template='{key}: {value}', metadata_separator='\\n', text='Consiste no cultivo de plantas específicas que são incorporadas ao solo para melhorar sua \\nfertilidade e estrutura.Benefícios incluem:  \\nFixação Biológica de Nitrogênio: Leguminosas, como feijão-guandu e crotalária, fixam \\nnitrogênio atmosférico, enriquecendo o solo.  \\nCiclagem de Nutrientes: Plantas de raízes profundas, como a mucuna, trazem nutrientes \\ndas camadas inferiores para a superfície.  \\nSupressão de Plantas Daninhas: A cobertura densa impede o crescimento de espécies \\nindesejadas.  \\nManejo Biológico do Solo \\nEnvolve o uso de organismos vivos para promover a saúde do solo e das plantas. Práticas \\nincluem:  \\nInoculação com Microrganismos Benéficos: Aplicação de rizóbios, micorrizas e outros \\nmicrorganismos que melhoram a absorção de nutrientes e a resistência a patógenos.  \\nCompostagem e Biofertilizantes: Uso de compostos orgânicos ricos em microrganismos que \\naumentam a atividade biológica do solo.  \\nSistemas Agroflorestais \\nIntegração de árvores e arbustos com culturas agrícolas e/ou pecuária, proporcionando \\nbenefícios como:  \\nMelhoria da Estrutura do Solo: As raízes das árvores aumentam a porosidade e a infiltração \\nde água.  \\nCiclagem de Nutrientes: As árvores capturam nutrientes das camadas mais profundas e os \\ndisponibilizam na superfície através da queda de folhas.  \\nBiodiversidade: Aumenta a diversidade de espécies, promovendo um ecossistema mais \\nresiliente.  \\nGestão da Salinidade do Solo \\nEm áreas suscetíveis à salinização, é crucial adotar práticas que previnam o acúmulo de sais:  \\nIrrigação Adequada: Uso de água de boa qualidade e técnicas que evitem o acúmulo de sais \\nna superfície.  \\nDrenagem Eficiente: Implementação de sistemas que removam o excesso de água e sais do \\nsolo.  \\nUso de Emendas: Aplicação de gesso agrícola para substituir sódio por cálcio, melhorando a \\nestrutura do solo.', mimetype='text/plain', start_char_idx=0, end_char_idx=1840, metadata_seperator='\\n', text_template='{metadata_str}\\n\\n{content}'),\n",
              " TextNode(id_='995ed945-1517-493e-a5b5-02f20d0e1462', embedding=None, metadata={'page_label': '8', 'file_name': 'InformacoesAgricultura_n.pdf', 'file_path': '/content/Documentos/InformacoesAgricultura_n.pdf', 'file_type': 'application/pdf', 'file_size': 274492, 'creation_date': '2025-03-20', 'last_modified_date': '2025-03-20'}, excluded_embed_metadata_keys=['file_name', 'file_type', 'file_size', 'creation_date', 'last_modified_date', 'last_accessed_date'], excluded_llm_metadata_keys=['file_name', 'file_type', 'file_size', 'creation_date', 'last_modified_date', 'last_accessed_date'], relationships={<NodeRelationship.SOURCE: '1'>: RelatedNodeInfo(node_id='a44aea21-f79b-4bcc-a69f-712e8864bbfa', node_type=<ObjectType.DOCUMENT: '4'>, metadata={'page_label': '8', 'file_name': 'InformacoesAgricultura_n.pdf', 'file_path': '/content/Documentos/InformacoesAgricultura_n.pdf', 'file_type': 'application/pdf', 'file_size': 274492, 'creation_date': '2025-03-20', 'last_modified_date': '2025-03-20'}, hash='74fbef3212a6d627d492ea2804a4b04bfb6c7693e103c2e4252ba10111ec1e2d')}, metadata_template='{key}: {value}', metadata_separator='\\n', text='Monitoramento e Análise Contínua do Solo \\nA tomada de decisões informadas depende de um monitoramento constante:  \\nAnálises Regulares de Solo: Avaliar periodicamente os teores de nutrientes, matéria \\norgânica, pH e outros indicadores de saúde do solo.  \\nTecnologias de Precisão: Uso de sensores e ferramentas digitais para monitorar variáveis \\ncomo umidade, compactação e fertilidade em tempo real.  \\nEducação e Capacitação Contínua \\nManter-se atualizado sobre novas técnicas e conhecimentos é fundamental:  \\nParticipação em Cursos e Workshops: Engajar-se em treinamentos sobre práticas \\nsustentáveis e inovações no manejo do solo.  \\nColaboração com Instituições de Pesquisa: Estabelecer parcerias com universidades e \\ncentros de pesquisa para acesso a novas tecnologias e práticas recomendadas.  \\nPlanejamento Integrado da Paisagem \\nConsiderar a paisagem como um todo permite um manejo mais eficiente:  \\nZoneamento Agroecológico: Identificar áreas com aptidões específicas para determinadas \\nculturas, otimizando o uso do solo.  \\nCorredores Ecológicos: Manter áreas de vegetação nativa conectadas para preservar a \\nbiodiversidade e os serviços ecossistêmicos.  \\nRecuperação de Solos Degradados \\nSolos que sofreram degradação exigem intervenções específicas:  \\nReflorestamento: Plantio de espécies nativas para recuperar a estrutura e a fertilidade do \\nsolo.  \\nTécnicas de Biorremediação: Uso de plantas e microrganismos para remover contaminantes \\ne restaurar a saúde do solo.  \\n \\nPolíticas Públicas e Incentivos \\nGovernos e instituições podem promover práticas sustentáveis através de: cadenaser.com \\nIncentivos Financeiros: Subsídios e créditos para agricultores que adotam práticas de \\nconservação do solo.  \\nRegulamentações Ambientais: Estabelecimento de normas que incentivem o uso \\nresponsável e sustentável do solo.', mimetype='text/plain', start_char_idx=0, end_char_idx=1823, metadata_seperator='\\n', text_template='{metadata_str}\\n\\n{content}'),\n",
              " TextNode(id_='e68d7c1d-fd66-4c6a-94c9-7de848271689', embedding=None, metadata={'page_label': '9', 'file_name': 'InformacoesAgricultura_n.pdf', 'file_path': '/content/Documentos/InformacoesAgricultura_n.pdf', 'file_type': 'application/pdf', 'file_size': 274492, 'creation_date': '2025-03-20', 'last_modified_date': '2025-03-20'}, excluded_embed_metadata_keys=['file_name', 'file_type', 'file_size', 'creation_date', 'last_modified_date', 'last_accessed_date'], excluded_llm_metadata_keys=['file_name', 'file_type', 'file_size', 'creation_date', 'last_modified_date', 'last_accessed_date'], relationships={<NodeRelationship.SOURCE: '1'>: RelatedNodeInfo(node_id='1e0f7cc0-3cbb-4279-98e5-ea2fb5338115', node_type=<ObjectType.DOCUMENT: '4'>, metadata={'page_label': '9', 'file_name': 'InformacoesAgricultura_n.pdf', 'file_path': '/content/Documentos/InformacoesAgricultura_n.pdf', 'file_type': 'application/pdf', 'file_size': 274492, 'creation_date': '2025-03-20', 'last_modified_date': '2025-03-20'}, hash='95cd482bfa0e8638821a993388fec4c15da8f077b70c9a85d992483c770b668e')}, metadata_template='{key}: {value}', metadata_separator='\\n', text='Ao integrar essas estratégias avançadas no manejo do solo, é possível alcançar uma \\nagricultura mais sustentável, produtiva e resiliente, garantindo a conservação dos recursos \\nnaturais para as futuras gerações. \\nCatuaí Amarelo \\nO Catuaí Amarelo é uma variedade de café arábica desenvolvida no Brasil pelo Instituto \\nAgronômico de Campinas (IAC). Resulta do cruzamento entre as cultivares Mundo Novo e \\nCaturra Amarelo, combinando a robustez e produtividade do Mundo Novo com o porte \\nbaixo e precocidade do Caturra. A cultivar foi liberada para fins comerciais em 1972.  \\nCaracterísticas Agronômicas: \\n• Porte: Apresenta porte baixo, facilitando o manejo, a colheita e permitindo maior \\ndensidade de plantio.  \\n• Produtividade: Elevada, com capacidade de adaptação a diversas regiões cafeeiras.  \\n• Maturação: Intermediária a tardia, permitindo um planejamento adequado da \\ncolheita.  \\n• Tamanho dos Grãos: Médio, com peneira média.  \\n• Resistência a Doenças: Não possui resistência significativa a doenças comuns do \\ncafeeiro, exigindo manejo fitossanitário adequado.  \\nAdaptação e Cultivo: \\nO Catuaí Amarelo é amplamente cultivado em diversas regiões cafeeiras do Brasil, devido à \\nsua adaptabilidade e produtividade. É especialmente indicado para áreas de altitude, onde \\npode expressar melhor seu potencial produtivo e qualitativo. Devido ao seu porte baixo, \\npermite maior densidade de plantio, tornando mais eficiente o uso da área disponível.  \\nCaracterísticas Sensoriais: \\nNa xícara, o Catuaí Amarelo oferece uma bebida de sabor suave, com acidez média e notas \\nadocicadas que podem lembrar caramelo e frutas como banana. Sua leveza e delicadeza o \\ntornam uma opção apreciada por consumidores que buscam um café equilibrado e \\naromático.  \\nImportância no Mercado de Cafés Especiais: \\nDevido às suas características sensoriais e à possibilidade de manejo que resulta em grãos \\nde alta qualidade, o Catuaí Amarelo tem ganhado destaque no mercado de cafés especiais. \\nSua versatilidade permite a produção de bebidas com perfis diferenciados, atendendo a \\ndiversos paladares e contribuindo para a valorização do café brasileiro no mercado \\ninternacional.', mimetype='text/plain', start_char_idx=0, end_char_idx=2159, metadata_seperator='\\n', text_template='{metadata_str}\\n\\n{content}'),\n",
              " TextNode(id_='9d21af80-f98f-4a87-8757-3f8652217584', embedding=None, metadata={'page_label': '10', 'file_name': 'InformacoesAgricultura_n.pdf', 'file_path': '/content/Documentos/InformacoesAgricultura_n.pdf', 'file_type': 'application/pdf', 'file_size': 274492, 'creation_date': '2025-03-20', 'last_modified_date': '2025-03-20'}, excluded_embed_metadata_keys=['file_name', 'file_type', 'file_size', 'creation_date', 'last_modified_date', 'last_accessed_date'], excluded_llm_metadata_keys=['file_name', 'file_type', 'file_size', 'creation_date', 'last_modified_date', 'last_accessed_date'], relationships={<NodeRelationship.SOURCE: '1'>: RelatedNodeInfo(node_id='b75b7724-46e9-4ae9-85b9-075c7092a2c0', node_type=<ObjectType.DOCUMENT: '4'>, metadata={'page_label': '10', 'file_name': 'InformacoesAgricultura_n.pdf', 'file_path': '/content/Documentos/InformacoesAgricultura_n.pdf', 'file_type': 'application/pdf', 'file_size': 274492, 'creation_date': '2025-03-20', 'last_modified_date': '2025-03-20'}, hash='576b54922b038753bab62531e7556d56f9ca97724fb739011eb9d882965edf23')}, metadata_template='{key}: {value}', metadata_separator='\\n', text=\"Considerações para o Produtor: \\n• Manejo Fitossanitário: Devido à sua susceptibilidade a certas doenças, é essencial \\nimplementar um programa de manejo integrado de pragas e doenças para garantir a \\nsaúde das plantas e a qualidade da produção.  \\n• Condições Climáticas: Embora adaptável a diversas regiões, o Catuaí Amarelo \\napresenta melhor desempenho em altitudes elevadas, onde as condições climáticas \\nfavorecem a expressão de suas melhores características sensoriais.  \\n• Adubação e Nutrição: Devido à sua alta produtividade, requer um programa de \\nadubação cuidadoso para repor os nutrientes extraídos pela cultura e manter a \\nfertilidade do solo.  \\n• Colheita e Pós-Colheita: A maturação intermediária a tardia permite um \\nplanejamento adequado da colheita. Práticas de pós-colheita, como processamento \\ne secagem adequados, são fundamentais para preservar a qualidade dos grãos e \\nrealçar as características sensoriais da bebida. \\n• Tipos de Sementes e Preços \\n• P: Quais tipos de sementes estão disponíveis para plantio e qual o preço de cada uma? \\n• R: Aqui estão algumas opções de sementes e seus preços aproximados: \\n• • Sementes de Milho ( variedade 'Cargill'): Ideal para solos bem drenados, com pH \\nentre 5,5 e 7,0, rica em nitrogênio. \\nPreço: R$ 30,00 por pacote (1 kg). \\n• • Sementes de Soja (variedade 'BRS 1010'): Necessita de solo com boa retenção de \\numidade, pH entre 6,0 e 7,0. \\nPreço: R$ 50,00 por pacote (1 kg). \\n• • Sementes de Trigo (variedade 'BRS 254'): Desenvolve-se melhor em solos \\nprofundos e bem drenados, pH entre 6,0 e 7,5. \\nPreço: R$ 35,00 por pacote (1 kg). \\n• • Sementes de Alface (variedade 'Vera'): Ideal para solos leves, bem drenados e \\nricos em matéria orgânica, com pH entre 5,5 e 6,8. \\nPreço: R$ 20,00 por pacote (1 kg). \\n• • Sementes de Tomate (variedade 'Italiano'): Precisa de solo bem drenado, com pH \\nentre 5,5 e 6,8. \\nPreço: R$ 25,00 por pacote (1 kg). \\n• P: Os preços variam conforme o fornecedor e a região. Para obter o preço exato e a \\ndisponibilidade, é importante entrar em contato diretamente com o fornecedor ou o \\ndistribuidor local.\", mimetype='text/plain', start_char_idx=0, end_char_idx=2094, metadata_seperator='\\n', text_template='{metadata_str}\\n\\n{content}')]"
            ]
          },
          "metadata": {},
          "execution_count": 112
        }
      ],
      "source": [
        "nodes"
      ]
    },
    {
      "cell_type": "code",
      "execution_count": null,
      "metadata": {
        "id": "B6oOcq-Unl9m",
        "colab": {
          "base_uri": "https://localhost:8080/"
        },
        "outputId": "e258b044-f169-4c24-cd1b-735c9baff69b"
      },
      "outputs": [
        {
          "output_type": "execute_result",
          "data": {
            "text/plain": [
              "10"
            ]
          },
          "metadata": {},
          "execution_count": 113
        }
      ],
      "source": [
        "len(nodes)"
      ]
    },
    {
      "cell_type": "code",
      "execution_count": null,
      "metadata": {
        "id": "u6GdKnaNnqBA",
        "colab": {
          "base_uri": "https://localhost:8080/"
        },
        "outputId": "029b7a5d-50e3-4208-f98c-355032cb5db6"
      },
      "outputs": [
        {
          "output_type": "execute_result",
          "data": {
            "text/plain": [
              "TextNode(id_='6483e906-24ef-478d-b66d-ec2816cd3078', embedding=None, metadata={'page_label': '1', 'file_name': 'InformacoesAgricultura_n.pdf', 'file_path': '/content/Documentos/InformacoesAgricultura_n.pdf', 'file_type': 'application/pdf', 'file_size': 274492, 'creation_date': '2025-03-20', 'last_modified_date': '2025-03-20'}, excluded_embed_metadata_keys=['file_name', 'file_type', 'file_size', 'creation_date', 'last_modified_date', 'last_accessed_date'], excluded_llm_metadata_keys=['file_name', 'file_type', 'file_size', 'creation_date', 'last_modified_date', 'last_accessed_date'], relationships={<NodeRelationship.SOURCE: '1'>: RelatedNodeInfo(node_id='ca6f6795-f482-400b-8ae7-cf93490eaa29', node_type=<ObjectType.DOCUMENT: '4'>, metadata={'page_label': '1', 'file_name': 'InformacoesAgricultura_n.pdf', 'file_path': '/content/Documentos/InformacoesAgricultura_n.pdf', 'file_type': 'application/pdf', 'file_size': 274492, 'creation_date': '2025-03-20', 'last_modified_date': '2025-03-20'}, hash='444b15013dbb436af6983b1da9d8ac61e433081ef266889ea8843915f8a08c6c')}, metadata_template='{key}: {value}', metadata_separator='\\n', text='Guia de Preparo do Solo para Plantio \\nInformações Gerais \\nP: Qual a importância do preparo adequado do solo? \\nR: O preparo adequado do solo garante que as plantas tenham acesso aos nutrientes \\nnecessários, além de melhorar a retenção de água e a aeração, fatores essenciais para o \\ncrescimento saudável.  \\nP: Quais fatores devem ser considerados ao preparar o solo para o plantio? \\nR: Os principais fatores incluem o tipo de solo, a umidade ideal, o pH, a compactação e a \\nadubação adequada para cada cultura.  \\n \\nTipos de Solo e Seu Tratamento \\nP: Quais são os principais tipos de solo e como prepará-los? \\nR: Existem diversos tipos de solo, cada um com características específicas e tratamentos \\nrecomendados:  \\n• Solo Arenoso: Possui drenagem rápida e baixo teor de nutrientes. Recomenda-se a \\nadição de matéria orgânica e irrigação frequente.  \\n• Solo Argiloso: Retém muita água e pode compactar facilmente. A aeração e a adição \\nde areia podem melhorar a drenagem.  \\n• Solo Calcário: Apresenta pH alto e pouca disponibilidade de micronutrientes. Pode \\nser corrigido com adubação orgânica e fertilizantes ácidos. \\n \\nSensores para Monitoramento da Umidade do Solo \\nP: Quais sensores podem ser usados para monitorar a umidade do solo? \\nR: Existem diversas tecnologias para medir a umidade do solo, entre elas:  \\n• Sensor Capacitivo de Umidade do Solo: Mede a variação da capacitância conforme o \\nnível de umidade.', mimetype='text/plain', start_char_idx=0, end_char_idx=1415, metadata_seperator='\\n', text_template='{metadata_str}\\n\\n{content}')"
            ]
          },
          "metadata": {},
          "execution_count": 114
        }
      ],
      "source": [
        "nodes[0]"
      ]
    },
    {
      "cell_type": "code",
      "execution_count": null,
      "metadata": {
        "id": "XaaqRGrynrVQ",
        "colab": {
          "base_uri": "https://localhost:8080/"
        },
        "outputId": "7dfb245f-baa0-4529-9c4b-1b340832246c"
      },
      "outputs": [
        {
          "output_type": "execute_result",
          "data": {
            "text/plain": [
              "TextNode(id_='9d21af80-f98f-4a87-8757-3f8652217584', embedding=None, metadata={'page_label': '10', 'file_name': 'InformacoesAgricultura_n.pdf', 'file_path': '/content/Documentos/InformacoesAgricultura_n.pdf', 'file_type': 'application/pdf', 'file_size': 274492, 'creation_date': '2025-03-20', 'last_modified_date': '2025-03-20'}, excluded_embed_metadata_keys=['file_name', 'file_type', 'file_size', 'creation_date', 'last_modified_date', 'last_accessed_date'], excluded_llm_metadata_keys=['file_name', 'file_type', 'file_size', 'creation_date', 'last_modified_date', 'last_accessed_date'], relationships={<NodeRelationship.SOURCE: '1'>: RelatedNodeInfo(node_id='b75b7724-46e9-4ae9-85b9-075c7092a2c0', node_type=<ObjectType.DOCUMENT: '4'>, metadata={'page_label': '10', 'file_name': 'InformacoesAgricultura_n.pdf', 'file_path': '/content/Documentos/InformacoesAgricultura_n.pdf', 'file_type': 'application/pdf', 'file_size': 274492, 'creation_date': '2025-03-20', 'last_modified_date': '2025-03-20'}, hash='576b54922b038753bab62531e7556d56f9ca97724fb739011eb9d882965edf23')}, metadata_template='{key}: {value}', metadata_separator='\\n', text=\"Considerações para o Produtor: \\n• Manejo Fitossanitário: Devido à sua susceptibilidade a certas doenças, é essencial \\nimplementar um programa de manejo integrado de pragas e doenças para garantir a \\nsaúde das plantas e a qualidade da produção.  \\n• Condições Climáticas: Embora adaptável a diversas regiões, o Catuaí Amarelo \\napresenta melhor desempenho em altitudes elevadas, onde as condições climáticas \\nfavorecem a expressão de suas melhores características sensoriais.  \\n• Adubação e Nutrição: Devido à sua alta produtividade, requer um programa de \\nadubação cuidadoso para repor os nutrientes extraídos pela cultura e manter a \\nfertilidade do solo.  \\n• Colheita e Pós-Colheita: A maturação intermediária a tardia permite um \\nplanejamento adequado da colheita. Práticas de pós-colheita, como processamento \\ne secagem adequados, são fundamentais para preservar a qualidade dos grãos e \\nrealçar as características sensoriais da bebida. \\n• Tipos de Sementes e Preços \\n• P: Quais tipos de sementes estão disponíveis para plantio e qual o preço de cada uma? \\n• R: Aqui estão algumas opções de sementes e seus preços aproximados: \\n• • Sementes de Milho ( variedade 'Cargill'): Ideal para solos bem drenados, com pH \\nentre 5,5 e 7,0, rica em nitrogênio. \\nPreço: R$ 30,00 por pacote (1 kg). \\n• • Sementes de Soja (variedade 'BRS 1010'): Necessita de solo com boa retenção de \\numidade, pH entre 6,0 e 7,0. \\nPreço: R$ 50,00 por pacote (1 kg). \\n• • Sementes de Trigo (variedade 'BRS 254'): Desenvolve-se melhor em solos \\nprofundos e bem drenados, pH entre 6,0 e 7,5. \\nPreço: R$ 35,00 por pacote (1 kg). \\n• • Sementes de Alface (variedade 'Vera'): Ideal para solos leves, bem drenados e \\nricos em matéria orgânica, com pH entre 5,5 e 6,8. \\nPreço: R$ 20,00 por pacote (1 kg). \\n• • Sementes de Tomate (variedade 'Italiano'): Precisa de solo bem drenado, com pH \\nentre 5,5 e 6,8. \\nPreço: R$ 25,00 por pacote (1 kg). \\n• P: Os preços variam conforme o fornecedor e a região. Para obter o preço exato e a \\ndisponibilidade, é importante entrar em contato diretamente com o fornecedor ou o \\ndistribuidor local.\", mimetype='text/plain', start_char_idx=0, end_char_idx=2094, metadata_seperator='\\n', text_template='{metadata_str}\\n\\n{content}')"
            ]
          },
          "metadata": {},
          "execution_count": 115
        }
      ],
      "source": [
        "nodes[9]"
      ]
    },
    {
      "cell_type": "code",
      "execution_count": null,
      "metadata": {
        "id": "y_4FwQ62nxJQ"
      },
      "outputs": [],
      "source": [
        "#instalacao do hugging face\n",
        "!pip install -q llama-index-embeddings-huggingface"
      ]
    },
    {
      "cell_type": "code",
      "execution_count": null,
      "metadata": {
        "id": "HCyeuTOWoHvf"
      },
      "outputs": [],
      "source": [
        "from llama_index.embeddings.huggingface import HuggingFaceEmbedding"
      ]
    },
    {
      "cell_type": "code",
      "execution_count": null,
      "metadata": {
        "id": "0f0IZ6CDoNEu"
      },
      "outputs": [],
      "source": [
        "# Classe personalizada para integrar ao Chroma DB\n",
        "class ChromaEmbeddingWrapper:\n",
        "    def __init__(self,model_name:str): # inicializa com o modelo embedding\n",
        "        self.model = HuggingFaceEmbedding(model_name = model_name)\n",
        "\n",
        "    def __call__(self,input): # Converte a entrada para o formato compativel com o HuggingFace\n",
        "        return self.model.embed(input)"
      ]
    },
    {
      "cell_type": "code",
      "execution_count": null,
      "metadata": {
        "id": "oFXpIGloo5kG"
      },
      "outputs": [],
      "source": [
        "embed_model_chroma = ChromaEmbeddingWrapper(model_name='intfloat/multilingual-e5-large')"
      ]
    },
    {
      "cell_type": "code",
      "execution_count": null,
      "metadata": {
        "id": "EpD97zT3plkn"
      },
      "outputs": [],
      "source": [
        "#instalacao do chroma db\n",
        "!pip install -q llama-index-vector-stores-chroma"
      ]
    },
    {
      "cell_type": "code",
      "execution_count": null,
      "metadata": {
        "id": "IROlZFQfqAzt"
      },
      "outputs": [],
      "source": [
        "#importando chroma db\n",
        "import chromadb\n",
        "db = chromadb.PersistentClient(path='./chroma_db')\n",
        "chroma_client = db\n",
        "collection_name = 'documentos_serenatto'\n",
        "\n",
        "try:\n",
        "    chroma_collection = chroma_client.get_or_create_collection(\n",
        "        name=collection_name,\n",
        "        embedding_function=embed_model_chroma)\n",
        "except Exception as e:\n",
        "    print(f'Erro ao criar coleção {e}')"
      ]
    },
    {
      "cell_type": "code",
      "execution_count": null,
      "metadata": {
        "id": "TNDDnmnMrNQg"
      },
      "outputs": [],
      "source": [
        "from llama_index.vector_stores.chroma import ChromaVectorStore\n",
        "from llama_index.core import StorageContext"
      ]
    },
    {
      "cell_type": "code",
      "execution_count": null,
      "metadata": {
        "id": "HiiKXYcSraN_"
      },
      "outputs": [],
      "source": [
        "#criando a coleçao do banco de dados\n",
        "vector_store = ChromaVectorStore(chroma_collection=chroma_collection)\n",
        "storage_context = StorageContext.from_defaults(vector_store=vector_store)"
      ]
    },
    {
      "cell_type": "code",
      "execution_count": null,
      "metadata": {
        "id": "hQtBaW9LrgSm"
      },
      "outputs": [],
      "source": [
        "embed_model = HuggingFaceEmbedding(model_name='intfloat/multilingual-e5-large')"
      ]
    },
    {
      "cell_type": "code",
      "execution_count": null,
      "metadata": {
        "id": "_bdUcp4SrmIN"
      },
      "outputs": [],
      "source": [
        "from llama_index.core import VectorStoreIndex"
      ]
    },
    {
      "cell_type": "code",
      "execution_count": null,
      "metadata": {
        "id": "mWZIKt-srppm"
      },
      "outputs": [],
      "source": [
        "index = VectorStoreIndex(nodes, storage_context=storage_context,embed_model = embed_model)"
      ]
    },
    {
      "cell_type": "code",
      "execution_count": null,
      "metadata": {
        "id": "Lw1si0tLsLOz"
      },
      "outputs": [],
      "source": [
        "from llama_index.core import load_index_from_storage\n",
        "index = load_index_from_storage(storage_context,embed_model = embed_model)"
      ]
    },
    {
      "cell_type": "code",
      "execution_count": null,
      "metadata": {
        "id": "LrqRG963sd1C"
      },
      "outputs": [],
      "source": [
        "from google.colab import userdata\n",
        "Groq_api =userdata.get('aula_7_projeto_integrador')"
      ]
    },
    {
      "cell_type": "code",
      "execution_count": null,
      "metadata": {
        "id": "by8PMnEQtUne"
      },
      "outputs": [],
      "source": [
        "!pip install -q llama-index-llms-groq\n"
      ]
    },
    {
      "cell_type": "code",
      "execution_count": null,
      "metadata": {
        "id": "SvNyfmP_tXcV"
      },
      "outputs": [],
      "source": [
        "from llama_index.llms.groq import Groq\n"
      ]
    },
    {
      "cell_type": "code",
      "execution_count": null,
      "metadata": {
        "id": "zr8kOIZ5tZK9"
      },
      "outputs": [],
      "source": [
        "llms = Groq(model = 'llama3-70b-8192',api_key=Groq_api )\n"
      ]
    },
    {
      "cell_type": "code",
      "execution_count": null,
      "metadata": {
        "id": "VT7P11qWtbAw"
      },
      "outputs": [],
      "source": [
        "query_engine = index.as_query_engine(llm=llms,similarity_top_k=2)\n"
      ]
    },
    {
      "cell_type": "code",
      "execution_count": null,
      "metadata": {
        "id": "QuRjQYq_tcfh",
        "colab": {
          "base_uri": "https://localhost:8080/",
          "height": 53
        },
        "outputId": "e79905b2-0384-4fe1-914a-3a45c1f5cca6"
      },
      "outputs": [
        {
          "output_type": "execute_result",
          "data": {
            "text/plain": [
              "'There is no information about available grains in the provided context. The context only discusses the importance of soil preparation, factors to consider when preparing soil, types of soil and their treatment, and sensors for monitoring soil moisture. Therefore, it is not possible to provide an answer to the query about available grains.'"
            ],
            "application/vnd.google.colaboratory.intrinsic+json": {
              "type": "string"
            }
          },
          "metadata": {},
          "execution_count": 133
        }
      ],
      "source": [
        "query_engine.query('Quais graos estao disponiveis').response\n"
      ]
    },
    {
      "cell_type": "code",
      "execution_count": null,
      "metadata": {
        "id": "szLcLC6HtfSC"
      },
      "outputs": [],
      "source": [
        "query_embedding = embed_model.get_text_embedding('Quais graos estao disponiveis ?')\n"
      ]
    },
    {
      "cell_type": "code",
      "execution_count": null,
      "metadata": {
        "id": "U3TXUYTxtjWQ",
        "colab": {
          "base_uri": "https://localhost:8080/"
        },
        "outputId": "590ad611-900c-4da4-921e-60e2c8cd3363"
      },
      "outputs": [
        {
          "output_type": "execute_result",
          "data": {
            "text/plain": [
              "{'ids': [['0d6e84c8-0aee-4624-8b73-4958ac2af241',\n",
              "   '8eb11ca5-36db-4527-915c-2edc4cd2fb5e']],\n",
              " 'embeddings': [array([[ 0.02383144, -0.00391019, -0.00812511, ..., -0.00962222,\n",
              "          -0.00753137,  0.00302464],\n",
              "         [ 0.00823476, -0.00232623, -0.00321136, ..., -0.01623025,\n",
              "          -0.01868957,  0.01425059]])],\n",
              " 'documents': None,\n",
              " 'uris': None,\n",
              " 'data': None,\n",
              " 'metadatas': None,\n",
              " 'distances': [[0.3678694447544064, 0.36974322728694053]],\n",
              " 'included': [<IncludeEnum.embeddings: 'embeddings'>,\n",
              "  <IncludeEnum.distances: 'distances'>]}"
            ]
          },
          "metadata": {},
          "execution_count": 135
        }
      ],
      "source": [
        "chroma_collection.query(query_embedding,n_results=2,include=['distances','embeddings'])\n"
      ]
    },
    {
      "cell_type": "code",
      "execution_count": null,
      "metadata": {
        "id": "SnvJdU66ttqU"
      },
      "outputs": [],
      "source": [
        "chat_engine = index.as_chat_engine(mode='context',llm = llms)\n"
      ]
    },
    {
      "cell_type": "code",
      "execution_count": null,
      "metadata": {
        "id": "rvGbecBIt1CE",
        "colab": {
          "base_uri": "https://localhost:8080/"
        },
        "outputId": "70dac537-7984-41ca-b86c-d8ad23264bff"
      },
      "outputs": [
        {
          "output_type": "stream",
          "name": "stdout",
          "text": [
            "De acordo com as opções disponíveis, os seguintes grãos estão disponíveis para plantio, junto com seus preços aproximados:\n",
            "\n",
            "* Sementes de Milho (variedade 'Cargill'): R$ 30,00 por pacote (1 kg)\n",
            "* Sementes de Soja (variedade 'BRS 1010'): R$ 50,00 por pacote (1 kg)\n",
            "* Sementes de Trigo (variedade 'BRS 254'): R$ 35,00 por pacote (1 kg)\n",
            "\n",
            "Observe que os preços podem variar dependendo do fornecedor e região.\n"
          ]
        }
      ],
      "source": [
        "pergunta = chat_engine.chat('Quais graos estao disponiveis e o preço ?').response\n",
        "print(pergunta)\n"
      ]
    },
    {
      "cell_type": "code",
      "execution_count": null,
      "metadata": {
        "id": "jBx0BUyAt77o",
        "colab": {
          "base_uri": "https://localhost:8080/"
        },
        "outputId": "e844b5ff-f4bd-4c01-ac9b-fe2418c67cf4"
      },
      "outputs": [
        {
          "output_type": "stream",
          "name": "stdout",
          "text": [
            "Os preços das sementes são: R$ 30,00 por pacote (1 kg) para Sementes de Milho (variedade 'Cargill'), R$ 50,00 por pacote (1 kg) para Sementes de Soja (variedade 'BRS 1010'), R$ 35,00 por pacote (1 kg) para Sementes de Trigo (variedade 'BRS 254'), R$ 20,00 por pacote (1 kg) para Sementes de Alface (variedade 'Vera'), e R$ 25,00 por pacote (1 kg) para Sementes de Tomate (variedade 'Italiano').\n"
          ]
        }
      ],
      "source": [
        "pythonCopiarpergunta = chat_engine.chat('Quais sao os precos dos sementes ?').response\n",
        "print(pythonCopiarpergunta)"
      ]
    },
    {
      "cell_type": "code",
      "execution_count": null,
      "metadata": {
        "id": "yXodI8S6vw5m",
        "colab": {
          "base_uri": "https://localhost:8080/"
        },
        "outputId": "bb14f990-5910-4f74-da8e-16d73d76be5a"
      },
      "outputs": [
        {
          "output_type": "stream",
          "name": "stdout",
          "text": [
            "O Catuaí Amarelo é uma variedade de café arábica desenvolvida no Brasil pelo Instituto Agronômico de Campinas (IAC). É resultado do cruzamento entre Mundo Novo e Caturra Amarelo, combinando a robustez e produtividade do Mundo Novo com o baixo crescimento e precocidade do Caturra.\n"
          ]
        }
      ],
      "source": [
        "pergunta = chat_engine.chat('Voce pode me dar mais detalhes sobre o Catuai amarelo ?').response\n",
        "print(pergunta)"
      ]
    },
    {
      "cell_type": "code",
      "execution_count": null,
      "metadata": {
        "id": "QR0jWZK4v789",
        "colab": {
          "base_uri": "https://localhost:8080/"
        },
        "outputId": "a988e2cc-d1c8-4723-dd56-41a63cfd2169"
      },
      "outputs": [
        {
          "output_type": "stream",
          "name": "stdout",
          "text": [
            "Não é possível determinar o preço atual do Catuaí Amarelo com as informações fornecidas.\n"
          ]
        }
      ],
      "source": [
        "pergunta = chat_engine.chat('Qual o preço dele ?').response\n",
        "print(pergunta)"
      ]
    },
    {
      "cell_type": "code",
      "execution_count": null,
      "metadata": {
        "id": "UNZo2qz0wAJt",
        "colab": {
          "base_uri": "https://localhost:8080/"
        },
        "outputId": "05201aba-8d55-4aad-a6dd-27c4366cae29"
      },
      "outputs": [
        {
          "output_type": "execute_result",
          "data": {
            "text/plain": [
              "[ChatMessage(role=<MessageRole.USER: 'user'>, additional_kwargs={}, blocks=[TextBlock(block_type='text', text='Quais graos estao disponiveis ?')]),\n",
              " ChatMessage(role=<MessageRole.ASSISTANT: 'assistant'>, additional_kwargs={}, blocks=[TextBlock(block_type='text', text=\"Os grãos disponíveis são Milho (variedade 'Cargill'), Soja (variedade 'BRS 1010') e Trigo (variedade 'BRS 254').\")]),\n",
              " ChatMessage(role=<MessageRole.USER: 'user'>, additional_kwargs={}, blocks=[TextBlock(block_type='text', text='Quais graos estao disponiveis e o preço ?')]),\n",
              " ChatMessage(role=<MessageRole.ASSISTANT: 'assistant'>, additional_kwargs={}, blocks=[TextBlock(block_type='text', text=\"De acordo com as opções disponíveis, os seguintes grãos estão disponíveis para plantio, junto com seus preços aproximados:\\n\\n* Sementes de Milho (variedade 'Cargill'): R$ 30,00 por pacote (1 kg)\\n* Sementes de Soja (variedade 'BRS 1010'): R$ 50,00 por pacote (1 kg)\\n* Sementes de Trigo (variedade 'BRS 254'): R$ 35,00 por pacote (1 kg)\\n\\nObserve que os preços podem variar dependendo do fornecedor e região.\")]),\n",
              " ChatMessage(role=<MessageRole.USER: 'user'>, additional_kwargs={}, blocks=[TextBlock(block_type='text', text='Quais sao os precos dos sementes ?')]),\n",
              " ChatMessage(role=<MessageRole.ASSISTANT: 'assistant'>, additional_kwargs={}, blocks=[TextBlock(block_type='text', text=\"Os preços das sementes são: R$ 30,00 por pacote (1 kg) para Sementes de Milho (variedade 'Cargill'), R$ 50,00 por pacote (1 kg) para Sementes de Soja (variedade 'BRS 1010'), R$ 35,00 por pacote (1 kg) para Sementes de Trigo (variedade 'BRS 254'), R$ 20,00 por pacote (1 kg) para Sementes de Alface (variedade 'Vera'), e R$ 25,00 por pacote (1 kg) para Sementes de Tomate (variedade 'Italiano').\")])]"
            ]
          },
          "metadata": {},
          "execution_count": 140
        }
      ],
      "source": [
        "chat_engine.chat_history"
      ]
    },
    {
      "cell_type": "code",
      "execution_count": null,
      "metadata": {
        "id": "HtKk-ZErwHSF"
      },
      "outputs": [],
      "source": [
        "from llama_index.core.memory import ChatSummaryMemoryBuffer\n"
      ]
    },
    {
      "cell_type": "code",
      "execution_count": null,
      "metadata": {
        "id": "GZc8G-RCwQ7E"
      },
      "outputs": [],
      "source": [
        "memory = ChatSummaryMemoryBuffer(llm=llms, token_limit=256)\n"
      ]
    },
    {
      "cell_type": "code",
      "execution_count": null,
      "metadata": {
        "id": "pDWdWiVMwS3E"
      },
      "outputs": [],
      "source": [
        "chat_engine= index.as_chat_engine(\n",
        "    chat_mode = 'context',\n",
        "    llm=llms,\n",
        "    memory=memory,\n",
        "    system_prompt=('''Você é especialista em cafes da loja Serenato, uma loja online que vende grãos de cafe\n",
        "    torrados, sua função é tirar duvidas de forma simpatica e natural sobre os graos disponiveis''')\n",
        ")\n"
      ]
    },
    {
      "cell_type": "code",
      "execution_count": null,
      "metadata": {
        "id": "Abw7A1EBwVZE",
        "colab": {
          "base_uri": "https://localhost:8080/"
        },
        "outputId": "ff5e1138-69ca-4254-fbc2-b8e4ecb26223"
      },
      "outputs": [
        {
          "output_type": "stream",
          "name": "stdout",
          "text": [
            "Olá! Bem-vindo à loja Serenato! Eu sou o seu especialista em cafés. Estou aqui para ajudá-lo a escolher o café perfeito para você. Qual é a sua dúvida sobre os nossos grãos de café torrados?\n"
          ]
        }
      ],
      "source": [
        "response = chat_engine.chat('Olá')\n",
        "print(response)"
      ]
    },
    {
      "cell_type": "code",
      "execution_count": null,
      "metadata": {
        "id": "ZQAkfgxOwXe0",
        "colab": {
          "base_uri": "https://localhost:8080/"
        },
        "outputId": "f759deb7-817c-45cb-d69e-1cf986b43640"
      },
      "outputs": [
        {
          "output_type": "stream",
          "name": "stdout",
          "text": [
            "O Catuaí Amarelo! É um dos nossos cafés especiais mais populares. Ele é uma variedade de café arábica desenvolvida no Brasil, conhecida por sua adaptabilidade e produtividade.\n",
            "\n",
            "Uma das características mais interessantes do Catuaí Amarelo é seu porte baixo, o que facilita o manejo, a colheita e permite uma maior densidade de plantio. Além disso, ele é muito produtivo e se adapta bem a diversas regiões cafeeiras do Brasil.\n",
            "\n",
            "Quando se trata de sabor, o Catuaí Amarelo é conhecido por sua bebida suave, com acidez média e notas adocicadas que lembram caramelo e frutas como banana. Sua leveza e delicadeza o tornam uma opção apreciada por consumidores que buscam um café equilibrado e aromático.\n",
            "\n",
            "Além disso, o Catuaí Amarelo é muito versátil e pode ser produzido em diferentes perfis, atendendo a diversos paladares. Isso o torna muito popular no mercado de cafés especiais e contribui para a valorização do café brasileiro no mercado internacional.\n",
            "\n",
            "Se você é um amante de cafés suaves e equilibrados, o Catuaí Amarelo é uma ótima escolha. Você gostaria de saber mais sobre como ele é produzido ou como podemos ajudá-lo a escolher o melhor café para você?\n"
          ]
        }
      ],
      "source": [
        "response = chat_engine.chat('Voce pode me dar mais detalhes sobre o catui amarelo')\n",
        "print(response)"
      ]
    },
    {
      "cell_type": "code",
      "execution_count": null,
      "metadata": {
        "id": "l-nNG-gRworK",
        "colab": {
          "base_uri": "https://localhost:8080/"
        },
        "outputId": "d3bef0e0-3681-47f7-c912-a39ee66ad611"
      },
      "outputs": [
        {
          "output_type": "stream",
          "name": "stdout",
          "text": [
            "Infelizmente, não tenho o preço exato do Catuaí Amarelo aqui, pois ele pode variar de acordo com a região, o fornecedor e a quantidade. No entanto, posso sugerir que você entre em contato conosco para obter mais informações sobre os preços e a disponibilidade do Catuaí Amarelo.\n",
            "\n",
            "Além disso, é importante lembrar que o preço das sementes de café pode variar de acordo com a variedade, a qualidade e a quantidade. Por exemplo, as sementes de café que mencionei anteriormente, como a variedade 'Cargill', 'BRS 1010', 'BRS 254', 'Vera' e 'Italiano', têm preços que variam de R$ 20,00 a R$ 50,00 por pacote (1 kg).\n",
            "\n",
            "Se você tiver alguma dúvida adicional ou precisar de mais informações, por favor, não hesite em perguntar!\n"
          ]
        }
      ],
      "source": [
        "response = chat_engine.chat('qual o preco dele')\n",
        "print(response)"
      ]
    },
    {
      "cell_type": "code",
      "execution_count": null,
      "metadata": {
        "id": "VsyVvhVqwphS",
        "colab": {
          "base_uri": "https://localhost:8080/"
        },
        "outputId": "89fe9bfe-5378-4484-b2d2-457f97cf19fd"
      },
      "outputs": [
        {
          "output_type": "execute_result",
          "data": {
            "text/plain": [
              "[ChatMessage(role=<MessageRole.SYSTEM: 'system'>, additional_kwargs={}, blocks=[TextBlock(block_type='text', text=\"Here is a translation of the conversation:\\n\\nCustomer: Can you give me more details about the Catuaí Amarelo?\\n\\nAssistant: Ah, of course! The Catuaí Amarelo is an Arabica coffee variety developed in Brazil by the Agronomic Institute of Campinas (IAC). It's the result of a cross between the Mundo Novo and Caturra Amarelo cultivars, combining the robustness and productivity of Mundo Novo with the low stature and precocity of Caturra.\\n\\nOne of the main characteristics of the Catuaí Amarelo is its adaptability to various coffee regions in Brazil. It's especially indicated for high-altitude areas, where it can express its productive and qualitative potential better. Additionally, its low stature allows for higher planting density, making more efficient use of available land.\\n\\nAs for the flavor, the Catuaí Amarelo offers a smooth-tasting drink with medium acidity and sweet notes that can evoke caramel and fruits like banana. Its lightness and delicacy make it a popular choice among consumers seeking a balanced and aromatic coffee.\\n\\nFurthermore, the Catuaí Amarelo has gained prominence in the specialty coffee market due to its sensory characteristics and the possibility of management that results in high-quality beans. Its versatility allows for the production of drinks with differentiated profiles, catering to various palates and contributing to the valorization of Brazilian coffee in the international market.\\n\\nIf you have any specific questions about the Catuaí Amarelo or would like to know more about how we can help you choose the best coffee for your taste, please don't hesitate to ask!\")]),\n",
              " ChatMessage(role=<MessageRole.USER: 'user'>, additional_kwargs={}, blocks=[TextBlock(block_type='text', text='qual o preco dele')]),\n",
              " ChatMessage(role=<MessageRole.ASSISTANT: 'assistant'>, additional_kwargs={}, blocks=[TextBlock(block_type='text', text=\"Infelizmente, não tenho o preço exato do Catuaí Amarelo aqui, pois ele pode variar de acordo com a região, o fornecedor e a quantidade. No entanto, posso sugerir que você entre em contato conosco para obter mais informações sobre os preços e a disponibilidade do Catuaí Amarelo.\\n\\nAlém disso, é importante lembrar que o preço das sementes de café pode variar de acordo com a variedade, a qualidade e a quantidade. Por exemplo, as sementes de café que mencionei anteriormente, como a variedade 'Cargill', 'BRS 1010', 'BRS 254', 'Vera' e 'Italiano', têm preços que variam de R$ 20,00 a R$ 50,00 por pacote (1 kg).\\n\\nSe você tiver alguma dúvida adicional ou precisar de mais informações, por favor, não hesite em perguntar!\")])]"
            ]
          },
          "metadata": {},
          "execution_count": 150
        }
      ],
      "source": [
        "memory.get()"
      ]
    },
    {
      "cell_type": "code",
      "execution_count": null,
      "metadata": {
        "id": "A72fAk47w4Gy"
      },
      "outputs": [],
      "source": [
        "# resetando o chat\n",
        "chat_engine.reset()"
      ]
    },
    {
      "cell_type": "code",
      "execution_count": null,
      "metadata": {
        "id": "jr1kkoCUw-sB",
        "colab": {
          "base_uri": "https://localhost:8080/"
        },
        "outputId": "25c97e0b-58f9-4b45-84a7-d7b21d78ed46"
      },
      "outputs": [
        {
          "output_type": "stream",
          "name": "stdout",
          "text": [
            "Olá!\n",
            "\n",
            "Parece que você está procurando por informações sobre os preços das sementes de café, certo?\n",
            "\n",
            "De acordo com as informações que tenho aqui, não há um preço específico para as sementes de café. No entanto, há algumas opções de sementes de outros cultivos que podem ser úteis para você.\n",
            "\n",
            "Por exemplo, as sementes de Milho (variedade 'Cargill') custam R$ 30,00 por pacote (1 kg), as sementes de Soja (variedade 'BRS 1010') custam R$ 50,00 por pacote (1 kg), e assim por diante.\n",
            "\n",
            "No entanto, é importante lembrar que os preços variam de acordo com o fornecedor e a região. Para obter o preço exato e a disponibilidade, é importante entrar em contato diretamente com o fornecedor ou o distribuidor local.\n",
            "\n",
            "Se você tiver alguma dúvida adicional sobre os grãos de café ou qualquer outro assunto relacionado, sinta-se à vontade para perguntar!\n"
          ]
        }
      ],
      "source": [
        "response = chat_engine.chat('Qual o preço dele')\n",
        "print(response)"
      ]
    },
    {
      "cell_type": "code",
      "execution_count": null,
      "metadata": {
        "id": "WJFVI8uGxNmk",
        "colab": {
          "base_uri": "https://localhost:8080/"
        },
        "outputId": "638f111f-1ee7-4abc-cf08-dfa0a3acd0f4"
      },
      "outputs": [
        {
          "output_type": "stream",
          "name": "stdout",
          "text": [
            "Collecting gradio\n",
            "  Downloading gradio-5.22.0-py3-none-any.whl.metadata (16 kB)\n",
            "Collecting aiofiles<24.0,>=22.0 (from gradio)\n",
            "  Downloading aiofiles-23.2.1-py3-none-any.whl.metadata (9.7 kB)\n",
            "Requirement already satisfied: anyio<5.0,>=3.0 in /usr/local/lib/python3.11/dist-packages (from gradio) (4.9.0)\n",
            "Requirement already satisfied: fastapi<1.0,>=0.115.2 in /usr/local/lib/python3.11/dist-packages (from gradio) (0.115.11)\n",
            "Collecting ffmpy (from gradio)\n",
            "  Downloading ffmpy-0.5.0-py3-none-any.whl.metadata (3.0 kB)\n",
            "Collecting gradio-client==1.8.0 (from gradio)\n",
            "  Downloading gradio_client-1.8.0-py3-none-any.whl.metadata (7.1 kB)\n",
            "Collecting groovy~=0.1 (from gradio)\n",
            "  Downloading groovy-0.1.2-py3-none-any.whl.metadata (6.1 kB)\n",
            "Requirement already satisfied: httpx>=0.24.1 in /usr/local/lib/python3.11/dist-packages (from gradio) (0.28.1)\n",
            "Requirement already satisfied: huggingface-hub>=0.28.1 in /usr/local/lib/python3.11/dist-packages (from gradio) (0.29.3)\n",
            "Requirement already satisfied: jinja2<4.0 in /usr/local/lib/python3.11/dist-packages (from gradio) (3.1.6)\n",
            "Requirement already satisfied: markupsafe<4.0,>=2.0 in /usr/local/lib/python3.11/dist-packages (from gradio) (3.0.2)\n",
            "Requirement already satisfied: numpy<3.0,>=1.0 in /usr/local/lib/python3.11/dist-packages (from gradio) (2.0.2)\n",
            "Requirement already satisfied: orjson~=3.0 in /usr/local/lib/python3.11/dist-packages (from gradio) (3.10.15)\n",
            "Requirement already satisfied: packaging in /usr/local/lib/python3.11/dist-packages (from gradio) (24.2)\n",
            "Requirement already satisfied: pandas<3.0,>=1.0 in /usr/local/lib/python3.11/dist-packages (from gradio) (2.2.2)\n",
            "Requirement already satisfied: pillow<12.0,>=8.0 in /usr/local/lib/python3.11/dist-packages (from gradio) (11.1.0)\n",
            "Requirement already satisfied: pydantic>=2.0 in /usr/local/lib/python3.11/dist-packages (from gradio) (2.10.6)\n",
            "Collecting pydub (from gradio)\n",
            "  Downloading pydub-0.25.1-py2.py3-none-any.whl.metadata (1.4 kB)\n",
            "Collecting python-multipart>=0.0.18 (from gradio)\n",
            "  Downloading python_multipart-0.0.20-py3-none-any.whl.metadata (1.8 kB)\n",
            "Requirement already satisfied: pyyaml<7.0,>=5.0 in /usr/local/lib/python3.11/dist-packages (from gradio) (6.0.2)\n",
            "Collecting ruff>=0.9.3 (from gradio)\n",
            "  Downloading ruff-0.11.1-py3-none-manylinux_2_17_x86_64.manylinux2014_x86_64.whl.metadata (25 kB)\n",
            "Collecting safehttpx<0.2.0,>=0.1.6 (from gradio)\n",
            "  Downloading safehttpx-0.1.6-py3-none-any.whl.metadata (4.2 kB)\n",
            "Collecting semantic-version~=2.0 (from gradio)\n",
            "  Downloading semantic_version-2.10.0-py2.py3-none-any.whl.metadata (9.7 kB)\n",
            "Requirement already satisfied: starlette<1.0,>=0.40.0 in /usr/local/lib/python3.11/dist-packages (from gradio) (0.46.1)\n",
            "Collecting tomlkit<0.14.0,>=0.12.0 (from gradio)\n",
            "  Downloading tomlkit-0.13.2-py3-none-any.whl.metadata (2.7 kB)\n",
            "Requirement already satisfied: typer<1.0,>=0.12 in /usr/local/lib/python3.11/dist-packages (from gradio) (0.15.2)\n",
            "Requirement already satisfied: typing-extensions~=4.0 in /usr/local/lib/python3.11/dist-packages (from gradio) (4.12.2)\n",
            "Requirement already satisfied: uvicorn>=0.14.0 in /usr/local/lib/python3.11/dist-packages (from gradio) (0.34.0)\n",
            "Requirement already satisfied: fsspec in /usr/local/lib/python3.11/dist-packages (from gradio-client==1.8.0->gradio) (2025.3.0)\n",
            "Requirement already satisfied: websockets<16.0,>=10.0 in /usr/local/lib/python3.11/dist-packages (from gradio-client==1.8.0->gradio) (14.2)\n",
            "Requirement already satisfied: idna>=2.8 in /usr/local/lib/python3.11/dist-packages (from anyio<5.0,>=3.0->gradio) (3.10)\n",
            "Requirement already satisfied: sniffio>=1.1 in /usr/local/lib/python3.11/dist-packages (from anyio<5.0,>=3.0->gradio) (1.3.1)\n",
            "Requirement already satisfied: certifi in /usr/local/lib/python3.11/dist-packages (from httpx>=0.24.1->gradio) (2025.1.31)\n",
            "Requirement already satisfied: httpcore==1.* in /usr/local/lib/python3.11/dist-packages (from httpx>=0.24.1->gradio) (1.0.7)\n",
            "Requirement already satisfied: h11<0.15,>=0.13 in /usr/local/lib/python3.11/dist-packages (from httpcore==1.*->httpx>=0.24.1->gradio) (0.14.0)\n",
            "Requirement already satisfied: filelock in /usr/local/lib/python3.11/dist-packages (from huggingface-hub>=0.28.1->gradio) (3.18.0)\n",
            "Requirement already satisfied: requests in /usr/local/lib/python3.11/dist-packages (from huggingface-hub>=0.28.1->gradio) (2.32.3)\n",
            "Requirement already satisfied: tqdm>=4.42.1 in /usr/local/lib/python3.11/dist-packages (from huggingface-hub>=0.28.1->gradio) (4.67.1)\n",
            "Requirement already satisfied: python-dateutil>=2.8.2 in /usr/local/lib/python3.11/dist-packages (from pandas<3.0,>=1.0->gradio) (2.8.2)\n",
            "Requirement already satisfied: pytz>=2020.1 in /usr/local/lib/python3.11/dist-packages (from pandas<3.0,>=1.0->gradio) (2025.1)\n",
            "Requirement already satisfied: tzdata>=2022.7 in /usr/local/lib/python3.11/dist-packages (from pandas<3.0,>=1.0->gradio) (2025.1)\n",
            "Requirement already satisfied: annotated-types>=0.6.0 in /usr/local/lib/python3.11/dist-packages (from pydantic>=2.0->gradio) (0.7.0)\n",
            "Requirement already satisfied: pydantic-core==2.27.2 in /usr/local/lib/python3.11/dist-packages (from pydantic>=2.0->gradio) (2.27.2)\n",
            "Requirement already satisfied: click>=8.0.0 in /usr/local/lib/python3.11/dist-packages (from typer<1.0,>=0.12->gradio) (8.1.8)\n",
            "Requirement already satisfied: shellingham>=1.3.0 in /usr/local/lib/python3.11/dist-packages (from typer<1.0,>=0.12->gradio) (1.5.4)\n",
            "Requirement already satisfied: rich>=10.11.0 in /usr/local/lib/python3.11/dist-packages (from typer<1.0,>=0.12->gradio) (13.9.4)\n",
            "Requirement already satisfied: six>=1.5 in /usr/local/lib/python3.11/dist-packages (from python-dateutil>=2.8.2->pandas<3.0,>=1.0->gradio) (1.17.0)\n",
            "Requirement already satisfied: markdown-it-py>=2.2.0 in /usr/local/lib/python3.11/dist-packages (from rich>=10.11.0->typer<1.0,>=0.12->gradio) (3.0.0)\n",
            "Requirement already satisfied: pygments<3.0.0,>=2.13.0 in /usr/local/lib/python3.11/dist-packages (from rich>=10.11.0->typer<1.0,>=0.12->gradio) (2.18.0)\n",
            "Requirement already satisfied: charset-normalizer<4,>=2 in /usr/local/lib/python3.11/dist-packages (from requests->huggingface-hub>=0.28.1->gradio) (3.4.1)\n",
            "Requirement already satisfied: urllib3<3,>=1.21.1 in /usr/local/lib/python3.11/dist-packages (from requests->huggingface-hub>=0.28.1->gradio) (2.3.0)\n",
            "Requirement already satisfied: mdurl~=0.1 in /usr/local/lib/python3.11/dist-packages (from markdown-it-py>=2.2.0->rich>=10.11.0->typer<1.0,>=0.12->gradio) (0.1.2)\n",
            "Downloading gradio-5.22.0-py3-none-any.whl (46.2 MB)\n",
            "\u001b[2K   \u001b[90m━━━━━━━━━━━━━━━━━━━━━━━━━━━━━━━━━━━━━━━━\u001b[0m \u001b[32m46.2/46.2 MB\u001b[0m \u001b[31m16.2 MB/s\u001b[0m eta \u001b[36m0:00:00\u001b[0m\n",
            "\u001b[?25hDownloading gradio_client-1.8.0-py3-none-any.whl (322 kB)\n",
            "\u001b[2K   \u001b[90m━━━━━━━━━━━━━━━━━━━━━━━━━━━━━━━━━━━━━━━━\u001b[0m \u001b[32m322.2/322.2 kB\u001b[0m \u001b[31m21.7 MB/s\u001b[0m eta \u001b[36m0:00:00\u001b[0m\n",
            "\u001b[?25hDownloading aiofiles-23.2.1-py3-none-any.whl (15 kB)\n",
            "Downloading groovy-0.1.2-py3-none-any.whl (14 kB)\n",
            "Downloading python_multipart-0.0.20-py3-none-any.whl (24 kB)\n",
            "Downloading ruff-0.11.1-py3-none-manylinux_2_17_x86_64.manylinux2014_x86_64.whl (11.3 MB)\n",
            "\u001b[2K   \u001b[90m━━━━━━━━━━━━━━━━━━━━━━━━━━━━━━━━━━━━━━━━\u001b[0m \u001b[32m11.3/11.3 MB\u001b[0m \u001b[31m82.0 MB/s\u001b[0m eta \u001b[36m0:00:00\u001b[0m\n",
            "\u001b[?25hDownloading safehttpx-0.1.6-py3-none-any.whl (8.7 kB)\n",
            "Downloading semantic_version-2.10.0-py2.py3-none-any.whl (15 kB)\n",
            "Downloading tomlkit-0.13.2-py3-none-any.whl (37 kB)\n",
            "Downloading ffmpy-0.5.0-py3-none-any.whl (6.0 kB)\n",
            "Downloading pydub-0.25.1-py2.py3-none-any.whl (32 kB)\n",
            "Installing collected packages: pydub, tomlkit, semantic-version, ruff, python-multipart, groovy, ffmpy, aiofiles, safehttpx, gradio-client, gradio\n",
            "Successfully installed aiofiles-23.2.1 ffmpy-0.5.0 gradio-5.22.0 gradio-client-1.8.0 groovy-0.1.2 pydub-0.25.1 python-multipart-0.0.20 ruff-0.11.1 safehttpx-0.1.6 semantic-version-2.10.0 tomlkit-0.13.2\n"
          ]
        }
      ],
      "source": [
        "!pip install gradio\n"
      ]
    },
    {
      "cell_type": "code",
      "execution_count": null,
      "metadata": {
        "id": "p5j7jq7ExOLt"
      },
      "outputs": [],
      "source": [
        "import gradio as gr\n"
      ]
    },
    {
      "cell_type": "code",
      "execution_count": null,
      "metadata": {
        "id": "unFF9WBbxPa9"
      },
      "outputs": [],
      "source": [
        "# Criando a função para conversar com o chatbot\n",
        "def converse_com_bot(message, chat_history):\n",
        "    response = chat_engine.chat(message)\n",
        "\n",
        "    if chat_history is None:\n",
        "        chat_history = []\n",
        "\n",
        "    chat_history.append({\"role\": \"user\", \"content\": message})\n",
        "    chat_history.append({\"role\": \"assistant\", \"content\": response.response})\n",
        "\n",
        "    return \"\", chat_history\n",
        "\n",
        "# Criando a função para resetar o chatbot\n",
        "def resetar_chat():\n",
        "    chat_engine.reset()\n",
        "    return []"
      ]
    },
    {
      "cell_type": "code",
      "execution_count": null,
      "metadata": {
        "id": "ZR9QWsygxfJ4",
        "colab": {
          "base_uri": "https://localhost:8080/",
          "height": 646
        },
        "outputId": "5b58ad8a-c2c2-4206-e37f-bc7a7cf28b70"
      },
      "outputs": [
        {
          "output_type": "stream",
          "name": "stdout",
          "text": [
            "Running Gradio in a Colab notebook requires sharing enabled. Automatically setting `share=True` (you can turn this off by setting `share=False` in `launch()` explicitly).\n",
            "\n",
            "Colab notebook detected. This cell will run indefinitely so that you can see errors and logs. To turn off, set debug=False in launch().\n",
            "* Running on public URL: https://33415e09199a099186.gradio.live\n",
            "\n",
            "This share link expires in 72 hours. For free permanent hosting and GPU upgrades, run `gradio deploy` from the terminal in the working directory to deploy to Hugging Face Spaces (https://huggingface.co/spaces)\n"
          ]
        },
        {
          "output_type": "display_data",
          "data": {
            "text/plain": [
              "<IPython.core.display.HTML object>"
            ],
            "text/html": [
              "<div><iframe src=\"https://33415e09199a099186.gradio.live\" width=\"100%\" height=\"500\" allow=\"autoplay; camera; microphone; clipboard-read; clipboard-write;\" frameborder=\"0\" allowfullscreen></iframe></div>"
            ]
          },
          "metadata": {}
        }
      ],
      "source": [
        "with gr.Blocks() as app:\n",
        "    gr.Markdown('# Chatbot da Serenatto')\n",
        "    chatbot = gr.Chatbot(type='messages')\n",
        "    msg = gr.Textbox(label='Digite a sua mensagem')\n",
        "    limpar = gr.Button('Limpar')\n",
        "\n",
        "    msg.submit(converse_com_bot, [msg, chatbot], [msg, chatbot])\n",
        "    limpar.click(resetar_chat, None, chatbot, queue=False)\n",
        "\n",
        "app.launch(debug=True)"
      ]
    }
  ],
  "metadata": {
    "colab": {
      "provenance": []
    },
    "kernelspec": {
      "display_name": "Python 3",
      "name": "python3"
    },
    "language_info": {
      "name": "python"
    },
    "widgets": {
      "application/vnd.jupyter.widget-state+json": {
        "744c79838c4c4ba8aae05d0682a1cc59": {
          "model_module": "@jupyter-widgets/controls",
          "model_name": "HBoxModel",
          "model_module_version": "1.5.0",
          "state": {
            "_dom_classes": [],
            "_model_module": "@jupyter-widgets/controls",
            "_model_module_version": "1.5.0",
            "_model_name": "HBoxModel",
            "_view_count": null,
            "_view_module": "@jupyter-widgets/controls",
            "_view_module_version": "1.5.0",
            "_view_name": "HBoxView",
            "box_style": "",
            "children": [
              "IPY_MODEL_bce6319a6ed94e3c94a4858c81ee374c",
              "IPY_MODEL_167a33c5c2e045d78927ad80e6544538",
              "IPY_MODEL_73ce839ea3c44eafbb3b872350157356"
            ],
            "layout": "IPY_MODEL_65b65dd85c03424dac6b4c9dc5b33d16"
          }
        },
        "bce6319a6ed94e3c94a4858c81ee374c": {
          "model_module": "@jupyter-widgets/controls",
          "model_name": "HTMLModel",
          "model_module_version": "1.5.0",
          "state": {
            "_dom_classes": [],
            "_model_module": "@jupyter-widgets/controls",
            "_model_module_version": "1.5.0",
            "_model_name": "HTMLModel",
            "_view_count": null,
            "_view_module": "@jupyter-widgets/controls",
            "_view_module_version": "1.5.0",
            "_view_name": "HTMLView",
            "description": "",
            "description_tooltip": null,
            "layout": "IPY_MODEL_254278b7b8b74f01a286c9262124c085",
            "placeholder": "​",
            "style": "IPY_MODEL_9ee351a26a814655851674dcfddea0f4",
            "value": "Parsing nodes: 100%"
          }
        },
        "167a33c5c2e045d78927ad80e6544538": {
          "model_module": "@jupyter-widgets/controls",
          "model_name": "FloatProgressModel",
          "model_module_version": "1.5.0",
          "state": {
            "_dom_classes": [],
            "_model_module": "@jupyter-widgets/controls",
            "_model_module_version": "1.5.0",
            "_model_name": "FloatProgressModel",
            "_view_count": null,
            "_view_module": "@jupyter-widgets/controls",
            "_view_module_version": "1.5.0",
            "_view_name": "ProgressView",
            "bar_style": "success",
            "description": "",
            "description_tooltip": null,
            "layout": "IPY_MODEL_b33679c913164ab5b8fa492bf371c6dc",
            "max": 10,
            "min": 0,
            "orientation": "horizontal",
            "style": "IPY_MODEL_46e1ffef6c5a4b139cdb8559a2966d30",
            "value": 10
          }
        },
        "73ce839ea3c44eafbb3b872350157356": {
          "model_module": "@jupyter-widgets/controls",
          "model_name": "HTMLModel",
          "model_module_version": "1.5.0",
          "state": {
            "_dom_classes": [],
            "_model_module": "@jupyter-widgets/controls",
            "_model_module_version": "1.5.0",
            "_model_name": "HTMLModel",
            "_view_count": null,
            "_view_module": "@jupyter-widgets/controls",
            "_view_module_version": "1.5.0",
            "_view_name": "HTMLView",
            "description": "",
            "description_tooltip": null,
            "layout": "IPY_MODEL_53d3cf6910e043e19d63533e5adcf38f",
            "placeholder": "​",
            "style": "IPY_MODEL_e96f2232bf344c9f8fd4aa9e337651de",
            "value": " 10/10 [00:00&lt;00:00, 236.80it/s]"
          }
        },
        "65b65dd85c03424dac6b4c9dc5b33d16": {
          "model_module": "@jupyter-widgets/base",
          "model_name": "LayoutModel",
          "model_module_version": "1.2.0",
          "state": {
            "_model_module": "@jupyter-widgets/base",
            "_model_module_version": "1.2.0",
            "_model_name": "LayoutModel",
            "_view_count": null,
            "_view_module": "@jupyter-widgets/base",
            "_view_module_version": "1.2.0",
            "_view_name": "LayoutView",
            "align_content": null,
            "align_items": null,
            "align_self": null,
            "border": null,
            "bottom": null,
            "display": null,
            "flex": null,
            "flex_flow": null,
            "grid_area": null,
            "grid_auto_columns": null,
            "grid_auto_flow": null,
            "grid_auto_rows": null,
            "grid_column": null,
            "grid_gap": null,
            "grid_row": null,
            "grid_template_areas": null,
            "grid_template_columns": null,
            "grid_template_rows": null,
            "height": null,
            "justify_content": null,
            "justify_items": null,
            "left": null,
            "margin": null,
            "max_height": null,
            "max_width": null,
            "min_height": null,
            "min_width": null,
            "object_fit": null,
            "object_position": null,
            "order": null,
            "overflow": null,
            "overflow_x": null,
            "overflow_y": null,
            "padding": null,
            "right": null,
            "top": null,
            "visibility": null,
            "width": null
          }
        },
        "254278b7b8b74f01a286c9262124c085": {
          "model_module": "@jupyter-widgets/base",
          "model_name": "LayoutModel",
          "model_module_version": "1.2.0",
          "state": {
            "_model_module": "@jupyter-widgets/base",
            "_model_module_version": "1.2.0",
            "_model_name": "LayoutModel",
            "_view_count": null,
            "_view_module": "@jupyter-widgets/base",
            "_view_module_version": "1.2.0",
            "_view_name": "LayoutView",
            "align_content": null,
            "align_items": null,
            "align_self": null,
            "border": null,
            "bottom": null,
            "display": null,
            "flex": null,
            "flex_flow": null,
            "grid_area": null,
            "grid_auto_columns": null,
            "grid_auto_flow": null,
            "grid_auto_rows": null,
            "grid_column": null,
            "grid_gap": null,
            "grid_row": null,
            "grid_template_areas": null,
            "grid_template_columns": null,
            "grid_template_rows": null,
            "height": null,
            "justify_content": null,
            "justify_items": null,
            "left": null,
            "margin": null,
            "max_height": null,
            "max_width": null,
            "min_height": null,
            "min_width": null,
            "object_fit": null,
            "object_position": null,
            "order": null,
            "overflow": null,
            "overflow_x": null,
            "overflow_y": null,
            "padding": null,
            "right": null,
            "top": null,
            "visibility": null,
            "width": null
          }
        },
        "9ee351a26a814655851674dcfddea0f4": {
          "model_module": "@jupyter-widgets/controls",
          "model_name": "DescriptionStyleModel",
          "model_module_version": "1.5.0",
          "state": {
            "_model_module": "@jupyter-widgets/controls",
            "_model_module_version": "1.5.0",
            "_model_name": "DescriptionStyleModel",
            "_view_count": null,
            "_view_module": "@jupyter-widgets/base",
            "_view_module_version": "1.2.0",
            "_view_name": "StyleView",
            "description_width": ""
          }
        },
        "b33679c913164ab5b8fa492bf371c6dc": {
          "model_module": "@jupyter-widgets/base",
          "model_name": "LayoutModel",
          "model_module_version": "1.2.0",
          "state": {
            "_model_module": "@jupyter-widgets/base",
            "_model_module_version": "1.2.0",
            "_model_name": "LayoutModel",
            "_view_count": null,
            "_view_module": "@jupyter-widgets/base",
            "_view_module_version": "1.2.0",
            "_view_name": "LayoutView",
            "align_content": null,
            "align_items": null,
            "align_self": null,
            "border": null,
            "bottom": null,
            "display": null,
            "flex": null,
            "flex_flow": null,
            "grid_area": null,
            "grid_auto_columns": null,
            "grid_auto_flow": null,
            "grid_auto_rows": null,
            "grid_column": null,
            "grid_gap": null,
            "grid_row": null,
            "grid_template_areas": null,
            "grid_template_columns": null,
            "grid_template_rows": null,
            "height": null,
            "justify_content": null,
            "justify_items": null,
            "left": null,
            "margin": null,
            "max_height": null,
            "max_width": null,
            "min_height": null,
            "min_width": null,
            "object_fit": null,
            "object_position": null,
            "order": null,
            "overflow": null,
            "overflow_x": null,
            "overflow_y": null,
            "padding": null,
            "right": null,
            "top": null,
            "visibility": null,
            "width": null
          }
        },
        "46e1ffef6c5a4b139cdb8559a2966d30": {
          "model_module": "@jupyter-widgets/controls",
          "model_name": "ProgressStyleModel",
          "model_module_version": "1.5.0",
          "state": {
            "_model_module": "@jupyter-widgets/controls",
            "_model_module_version": "1.5.0",
            "_model_name": "ProgressStyleModel",
            "_view_count": null,
            "_view_module": "@jupyter-widgets/base",
            "_view_module_version": "1.2.0",
            "_view_name": "StyleView",
            "bar_color": null,
            "description_width": ""
          }
        },
        "53d3cf6910e043e19d63533e5adcf38f": {
          "model_module": "@jupyter-widgets/base",
          "model_name": "LayoutModel",
          "model_module_version": "1.2.0",
          "state": {
            "_model_module": "@jupyter-widgets/base",
            "_model_module_version": "1.2.0",
            "_model_name": "LayoutModel",
            "_view_count": null,
            "_view_module": "@jupyter-widgets/base",
            "_view_module_version": "1.2.0",
            "_view_name": "LayoutView",
            "align_content": null,
            "align_items": null,
            "align_self": null,
            "border": null,
            "bottom": null,
            "display": null,
            "flex": null,
            "flex_flow": null,
            "grid_area": null,
            "grid_auto_columns": null,
            "grid_auto_flow": null,
            "grid_auto_rows": null,
            "grid_column": null,
            "grid_gap": null,
            "grid_row": null,
            "grid_template_areas": null,
            "grid_template_columns": null,
            "grid_template_rows": null,
            "height": null,
            "justify_content": null,
            "justify_items": null,
            "left": null,
            "margin": null,
            "max_height": null,
            "max_width": null,
            "min_height": null,
            "min_width": null,
            "object_fit": null,
            "object_position": null,
            "order": null,
            "overflow": null,
            "overflow_x": null,
            "overflow_y": null,
            "padding": null,
            "right": null,
            "top": null,
            "visibility": null,
            "width": null
          }
        },
        "e96f2232bf344c9f8fd4aa9e337651de": {
          "model_module": "@jupyter-widgets/controls",
          "model_name": "DescriptionStyleModel",
          "model_module_version": "1.5.0",
          "state": {
            "_model_module": "@jupyter-widgets/controls",
            "_model_module_version": "1.5.0",
            "_model_name": "DescriptionStyleModel",
            "_view_count": null,
            "_view_module": "@jupyter-widgets/base",
            "_view_module_version": "1.2.0",
            "_view_name": "StyleView",
            "description_width": ""
          }
        }
      }
    }
  },
  "nbformat": 4,
  "nbformat_minor": 0
}